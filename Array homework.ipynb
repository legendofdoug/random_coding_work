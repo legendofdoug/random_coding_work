{
 "cells": [
  {
   "cell_type": "markdown",
   "metadata": {},
   "source": [
    "## How to find missing number in a given integer array of 1 to 100"
   ]
  },
  {
   "cell_type": "code",
   "execution_count": 2,
   "metadata": {},
   "outputs": [],
   "source": [
    "import random\n",
    "import array\n",
    "import numpy as np\n"
   ]
  },
  {
   "cell_type": "code",
   "execution_count": 3,
   "metadata": {},
   "outputs": [],
   "source": [
    "test_array = np.linspace(1,100, num = 100, dtype=int)"
   ]
  },
  {
   "cell_type": "code",
   "execution_count": 4,
   "metadata": {},
   "outputs": [
    {
     "data": {
      "text/plain": [
       "array([  1,   2,   3,   4,   5,   6,   7,   8,   9,  10,  11,  12,  13,\n",
       "        14,  15,  16,  17,  18,  19,  20,  21,  22,  23,  24,  25,  26,\n",
       "        27,  28,  29,  30,  31,  32,  33,  34,  35,  36,  37,  38,  39,\n",
       "        40,  41,  42,  43,  44,  45,  46,  47,  48,  49,  50,  51,  52,\n",
       "        53,  54,  55,  56,  57,  58,  59,  60,  61,  62,  63,  64,  65,\n",
       "        66,  67,  68,  69,  70,  71,  72,  73,  74,  75,  76,  77,  78,\n",
       "        79,  80,  81,  82,  83,  84,  85,  86,  87,  88,  89,  90,  91,\n",
       "        92,  93,  94,  95,  96,  97,  98,  99, 100])"
      ]
     },
     "execution_count": 4,
     "metadata": {},
     "output_type": "execute_result"
    }
   ],
   "source": [
    "test_array"
   ]
  },
  {
   "cell_type": "code",
   "execution_count": 5,
   "metadata": {},
   "outputs": [
    {
     "data": {
      "text/plain": [
       "array([  1,   2,   3,   4,   5,   6,   7,   8,   9,  10,  11,  12,  13,\n",
       "        14,  15,  16,  17,  18,  19,  20,  21,  22,  23,  24,  25,  26,\n",
       "        27,  28,  29,  30,  31,  32,  33,  34,  35,  36,  37,  38,  39,\n",
       "        40,  41,  42,  43,  44,  45,  46,  47,  48,  49,  50,  51,  52,\n",
       "        53,  54,  55,  56,  57,  58,  59,  60,  61,  62,  63,  64,  65,\n",
       "        66,  67,  68,  69,  70,  71,  72,  73,  74,  75,  76,  77,  78,\n",
       "        79,  80,  81,  82,  83,  84,  85,  86,  87,  88,  89,  90,  91,\n",
       "        92,  93,  94,  95,  96,  97,  98,  99, 100])"
      ]
     },
     "execution_count": 5,
     "metadata": {},
     "output_type": "execute_result"
    }
   ],
   "source": [
    "test_array"
   ]
  },
  {
   "cell_type": "code",
   "execution_count": 6,
   "metadata": {},
   "outputs": [],
   "source": [
    "\n",
    "removed_item = np.random.choice(test_array, size= len(test_array)-1, replace = False)\n"
   ]
  },
  {
   "cell_type": "code",
   "execution_count": 7,
   "metadata": {},
   "outputs": [
    {
     "data": {
      "text/plain": [
       "array([ 63,  93,  76,  94,  16,  69,  39,  60,   7,  38,  68,   5,  19,\n",
       "        44,  52,  92,  99,  25,  31,  43,  81,  20,  74,   3,  88,  42,\n",
       "        75,   4,  95,  30,  29,  87,  49,  96,  89,  56, 100,  66,  27,\n",
       "        67,  79,  65,  82,  14,  86,  18,  85,  62,  33,  32,  77,  11,\n",
       "        10,  57,  35,  15,  45,  70,  37,  98,   1,  26,  54,  22,  17,\n",
       "        28,  51,  59,  12,  48,  47,  46,  40,  84,   8,  24,  97,  71,\n",
       "        83,  58,  72,  73,  91,  34,  78,  50,  90,  21,   9,  13,  80,\n",
       "        64,  23,   2,  41,   6,  36,  55,  53])"
      ]
     },
     "execution_count": 7,
     "metadata": {},
     "output_type": "execute_result"
    }
   ],
   "source": [
    "removed_item"
   ]
  },
  {
   "cell_type": "code",
   "execution_count": 8,
   "metadata": {},
   "outputs": [],
   "source": [
    "removed_item.sort()"
   ]
  },
  {
   "cell_type": "code",
   "execution_count": 9,
   "metadata": {},
   "outputs": [
    {
     "data": {
      "text/plain": [
       "array([  1,   2,   3,   4,   5,   6,   7,   8,   9,  10,  11,  12,  13,\n",
       "        14,  15,  16,  17,  18,  19,  20,  21,  22,  23,  24,  25,  26,\n",
       "        27,  28,  29,  30,  31,  32,  33,  34,  35,  36,  37,  38,  39,\n",
       "        40,  41,  42,  43,  44,  45,  46,  47,  48,  49,  50,  51,  52,\n",
       "        53,  54,  55,  56,  57,  58,  59,  60,  62,  63,  64,  65,  66,\n",
       "        67,  68,  69,  70,  71,  72,  73,  74,  75,  76,  77,  78,  79,\n",
       "        80,  81,  82,  83,  84,  85,  86,  87,  88,  89,  90,  91,  92,\n",
       "        93,  94,  95,  96,  97,  98,  99, 100])"
      ]
     },
     "execution_count": 9,
     "metadata": {},
     "output_type": "execute_result"
    }
   ],
   "source": [
    "removed_item"
   ]
  },
  {
   "cell_type": "code",
   "execution_count": 10,
   "metadata": {},
   "outputs": [
    {
     "name": "stdout",
     "output_type": "stream",
     "text": [
      "61 is missing\n"
     ]
    }
   ],
   "source": [
    "for i in range(1,len(removed_item)):\n",
    "    if i == removed_item[i-1]:\n",
    "        pass\n",
    "    else:\n",
    "        print (i, \"is missing\")\n",
    "        break\n",
    "        "
   ]
  },
  {
   "cell_type": "code",
   "execution_count": 11,
   "metadata": {},
   "outputs": [],
   "source": [
    "test_array_sum = test_array.sum()\n",
    "removed_item_sum = removed_item.sum()"
   ]
  },
  {
   "cell_type": "code",
   "execution_count": 12,
   "metadata": {},
   "outputs": [
    {
     "data": {
      "text/plain": [
       "61"
      ]
     },
     "execution_count": 12,
     "metadata": {},
     "output_type": "execute_result"
    }
   ],
   "source": [
    "test_array_sum - removed_item_sum"
   ]
  },
  {
   "cell_type": "markdown",
   "metadata": {},
   "source": [
    "### How to find and remove Duplicate Numbers on a given integer array."
   ]
  },
  {
   "cell_type": "code",
   "execution_count": 13,
   "metadata": {},
   "outputs": [],
   "source": [
    "test_array_dup = np.array(np.random.choice(test_array, 100))"
   ]
  },
  {
   "cell_type": "code",
   "execution_count": 14,
   "metadata": {},
   "outputs": [
    {
     "data": {
      "text/plain": [
       "100"
      ]
     },
     "execution_count": 14,
     "metadata": {},
     "output_type": "execute_result"
    }
   ],
   "source": [
    "len(test_array_dup)"
   ]
  },
  {
   "cell_type": "code",
   "execution_count": 15,
   "metadata": {},
   "outputs": [
    {
     "data": {
      "text/plain": [
       "61"
      ]
     },
     "execution_count": 15,
     "metadata": {},
     "output_type": "execute_result"
    }
   ],
   "source": [
    "len(set(test_array_dup))\n"
   ]
  },
  {
   "cell_type": "code",
   "execution_count": 16,
   "metadata": {},
   "outputs": [],
   "source": [
    "seen = set()\n",
    "dup = set()\n",
    "for i in (test_array_dup):\n",
    "    if i in seen:\n",
    "        dup.add(i)\n",
    "    else:\n",
    "        seen.add(i)\n",
    "        "
   ]
  },
  {
   "cell_type": "code",
   "execution_count": 17,
   "metadata": {},
   "outputs": [
    {
     "data": {
      "text/plain": [
       "{6,\n",
       " 8,\n",
       " 11,\n",
       " 14,\n",
       " 15,\n",
       " 16,\n",
       " 20,\n",
       " 22,\n",
       " 24,\n",
       " 25,\n",
       " 28,\n",
       " 31,\n",
       " 33,\n",
       " 35,\n",
       " 36,\n",
       " 37,\n",
       " 38,\n",
       " 44,\n",
       " 46,\n",
       " 59,\n",
       " 70,\n",
       " 71,\n",
       " 75,\n",
       " 79,\n",
       " 82,\n",
       " 85,\n",
       " 87,\n",
       " 100}"
      ]
     },
     "execution_count": 17,
     "metadata": {},
     "output_type": "execute_result"
    }
   ],
   "source": [
    "dup"
   ]
  },
  {
   "cell_type": "markdown",
   "metadata": {},
   "source": [
    "### How do you find the largest and smallest number in an unsorted integer array?"
   ]
  },
  {
   "cell_type": "code",
   "execution_count": 18,
   "metadata": {},
   "outputs": [
    {
     "name": "stdout",
     "output_type": "stream",
     "text": [
      "100 is the largest, 5 is the lowest.\n"
     ]
    }
   ],
   "source": [
    "high = test_array_dup[0]\n",
    "low = test_array_dup[0]\n",
    "for i in test_array_dup:\n",
    "    if i > low and i < high:\n",
    "        pass\n",
    "    elif  high < i:\n",
    "        high = i\n",
    "    elif low > i:\n",
    "        low = i\n",
    "\n",
    "print (high, \"is the largest,\", low, \"is the lowest.\")   \n"
   ]
  },
  {
   "cell_type": "code",
   "execution_count": 19,
   "metadata": {},
   "outputs": [
    {
     "data": {
      "text/plain": [
       "5"
      ]
     },
     "execution_count": 19,
     "metadata": {},
     "output_type": "execute_result"
    }
   ],
   "source": [
    "test_array_dup.min()"
   ]
  },
  {
   "cell_type": "code",
   "execution_count": 20,
   "metadata": {},
   "outputs": [
    {
     "data": {
      "text/plain": [
       "100"
      ]
     },
     "execution_count": 20,
     "metadata": {},
     "output_type": "execute_result"
    }
   ],
   "source": [
    "test_array_dup.max()"
   ]
  },
  {
   "cell_type": "markdown",
   "metadata": {},
   "source": [
    "### How do you find all pairs of an integer array whose sum is equal to a given number?"
   ]
  },
  {
   "cell_type": "code",
   "execution_count": 21,
   "metadata": {},
   "outputs": [],
   "source": [
    "random_number = random.randint(50, 200)"
   ]
  },
  {
   "cell_type": "code",
   "execution_count": 22,
   "metadata": {},
   "outputs": [
    {
     "data": {
      "text/plain": [
       "60"
      ]
     },
     "execution_count": 22,
     "metadata": {},
     "output_type": "execute_result"
    }
   ],
   "source": [
    "random_number"
   ]
  },
  {
   "cell_type": "code",
   "execution_count": 23,
   "metadata": {},
   "outputs": [],
   "source": [
    "counter = 0\n",
    "equality = []\n",
    "achieved_list = []\n",
    "for i in range(len(test_array_dup)):\n",
    "    if test_array_dup[i] > random_number:\n",
    "        pass\n",
    "    else:\n",
    "        for j in range(i+1, len(test_array_dup)):\n",
    "            if test_array_dup[j] > random_number:\n",
    "                pass\n",
    "            else:\n",
    "                if test_array_dup[i]+test_array_dup[j] == random_number:\n",
    "                    equality.append([test_array_dup[i],test_array_dup[j], i, j])\n"
   ]
  },
  {
   "cell_type": "code",
   "execution_count": 24,
   "metadata": {},
   "outputs": [
    {
     "data": {
      "text/plain": [
       "[[20, 40, 0, 8],\n",
       " [44, 16, 1, 16],\n",
       " [44, 16, 1, 71],\n",
       " [44, 16, 1, 75],\n",
       " [33, 27, 5, 22],\n",
       " [11, 49, 6, 26],\n",
       " [40, 20, 8, 18],\n",
       " [25, 35, 9, 15],\n",
       " [25, 35, 9, 88],\n",
       " [25, 35, 11, 15],\n",
       " [25, 35, 11, 88],\n",
       " [55, 5, 12, 43],\n",
       " [15, 45, 13, 99],\n",
       " [35, 25, 15, 28],\n",
       " [35, 25, 15, 91],\n",
       " [16, 44, 16, 19],\n",
       " [16, 44, 16, 30],\n",
       " [44, 16, 19, 71],\n",
       " [44, 16, 19, 75],\n",
       " [36, 24, 21, 45],\n",
       " [36, 24, 21, 80],\n",
       " [27, 33, 22, 83],\n",
       " [27, 33, 22, 92],\n",
       " [22, 38, 25, 64],\n",
       " [22, 38, 25, 72],\n",
       " [49, 11, 26, 51],\n",
       " [25, 35, 28, 88],\n",
       " [44, 16, 30, 71],\n",
       " [44, 16, 30, 75],\n",
       " [46, 14, 34, 61],\n",
       " [46, 14, 34, 95],\n",
       " [24, 36, 45, 48],\n",
       " [36, 24, 48, 80],\n",
       " [22, 38, 53, 64],\n",
       " [22, 38, 53, 72],\n",
       " [43, 17, 56, 97],\n",
       " [14, 46, 61, 90],\n",
       " [6, 54, 62, 78],\n",
       " [38, 22, 64, 68],\n",
       " [6, 54, 65, 78],\n",
       " [22, 38, 68, 72],\n",
       " [15, 45, 82, 99],\n",
       " [35, 25, 88, 91],\n",
       " [46, 14, 90, 95]]"
      ]
     },
     "execution_count": 24,
     "metadata": {},
     "output_type": "execute_result"
    }
   ],
   "source": [
    "equality"
   ]
  },
  {
   "cell_type": "markdown",
   "metadata": {},
   "source": [
    "### How is an integer array sorted in place using the quicksort algorithm? "
   ]
  },
  {
   "cell_type": "markdown",
   "metadata": {},
   "source": [
    "A random pivot is used. That pivot is a number occupying a slot in the array. Ideally its near the middle, but that is not too important. The algorithm will scan both sides of the array to ensure that the numbers on the left are less than the pivot number the ones on the right are greater. If they are not, they are swapped. This continues with a new pivot everytime."
   ]
  },
  {
   "cell_type": "code",
   "execution_count": 25,
   "metadata": {},
   "outputs": [],
   "source": [
    "qs_array = [6,5,3,1,8,7,2,4]\n"
   ]
  },
  {
   "cell_type": "code",
   "execution_count": 26,
   "metadata": {},
   "outputs": [],
   "source": [
    "pivot = random.choice(qs_array)"
   ]
  },
  {
   "cell_type": "code",
   "execution_count": 27,
   "metadata": {},
   "outputs": [
    {
     "data": {
      "text/plain": [
       "8"
      ]
     },
     "execution_count": 27,
     "metadata": {},
     "output_type": "execute_result"
    }
   ],
   "source": [
    "pivot"
   ]
  },
  {
   "cell_type": "code",
   "execution_count": 28,
   "metadata": {},
   "outputs": [
    {
     "ename": "SyntaxError",
     "evalue": "invalid syntax (<ipython-input-28-99d631f2aec2>, line 3)",
     "output_type": "error",
     "traceback": [
      "\u001b[1;36m  File \u001b[1;32m\"<ipython-input-28-99d631f2aec2>\"\u001b[1;36m, line \u001b[1;32m3\u001b[0m\n\u001b[1;33m    for left\u001b[0m\n\u001b[1;37m            ^\u001b[0m\n\u001b[1;31mSyntaxError\u001b[0m\u001b[1;31m:\u001b[0m invalid syntax\n"
     ]
    }
   ],
   "source": [
    "#comparision of the sides.\n",
    "left_array = qs_array\n",
    "for left"
   ]
  },
  {
   "cell_type": "markdown",
   "metadata": {},
   "source": [
    "### How do you remove duplicates from an array in place? "
   ]
  },
  {
   "cell_type": "code",
   "execution_count": null,
   "metadata": {},
   "outputs": [],
   "source": [
    "test_array_ip = test_array_dup"
   ]
  },
  {
   "cell_type": "code",
   "execution_count": null,
   "metadata": {},
   "outputs": [],
   "source": [
    "seen_set = set()\n",
    "removal_list = []\n",
    "for i in range(len(test_array_ip)):\n",
    "    if test_array_ip[i] not in seen_set:\n",
    "        seen_set.add(test_array_ip[i])\n",
    "    else:\n",
    "        removal_list.append(i)"
   ]
  },
  {
   "cell_type": "code",
   "execution_count": null,
   "metadata": {},
   "outputs": [],
   "source": [
    "test_array_ip = np.delete(test_array_ip, removal_list)"
   ]
  },
  {
   "cell_type": "code",
   "execution_count": null,
   "metadata": {},
   "outputs": [],
   "source": [
    "len(test_array_ip)"
   ]
  },
  {
   "cell_type": "markdown",
   "metadata": {},
   "source": [
    "### How do you reverse an array in place in Java? \n"
   ]
  },
  {
   "cell_type": "code",
   "execution_count": null,
   "metadata": {},
   "outputs": [],
   "source": [
    "def swap(array, x,y):\n",
    "    array[x],array[y] = array[y],array[x]\n",
    "    return array"
   ]
  },
  {
   "cell_type": "code",
   "execution_count": null,
   "metadata": {},
   "outputs": [],
   "source": [
    "test_array_reversal = test_array_dup"
   ]
  },
  {
   "cell_type": "code",
   "execution_count": null,
   "metadata": {},
   "outputs": [],
   "source": [
    "#length that we plan to use\n",
    "array_length = int(len(test_array_reversal)/2)"
   ]
  },
  {
   "cell_type": "code",
   "execution_count": null,
   "metadata": {},
   "outputs": [],
   "source": [
    "array_length"
   ]
  },
  {
   "cell_type": "code",
   "execution_count": null,
   "metadata": {},
   "outputs": [],
   "source": [
    "for i in range(array_length):\n",
    "    swap(test_array_reversal, i, -i-1)"
   ]
  },
  {
   "cell_type": "code",
   "execution_count": null,
   "metadata": {},
   "outputs": [],
   "source": [
    "test_ar"
   ]
  },
  {
   "cell_type": "code",
   "execution_count": null,
   "metadata": {},
   "outputs": [],
   "source": []
  },
  {
   "cell_type": "code",
   "execution_count": null,
   "metadata": {},
   "outputs": [],
   "source": []
  }
 ],
 "metadata": {
  "kernelspec": {
   "display_name": "Python 3",
   "language": "python",
   "name": "python3"
  },
  "language_info": {
   "codemirror_mode": {
    "name": "ipython",
    "version": 3
   },
   "file_extension": ".py",
   "mimetype": "text/x-python",
   "name": "python",
   "nbconvert_exporter": "python",
   "pygments_lexer": "ipython3",
   "version": "3.6.5"
  }
 },
 "nbformat": 4,
 "nbformat_minor": 2
}
