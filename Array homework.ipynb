{
 "cells": [
  {
   "cell_type": "markdown",
   "metadata": {},
   "source": [
    "## How to find missing number in a given integer array of 1 to 100"
   ]
  },
  {
   "cell_type": "code",
   "execution_count": 1,
   "metadata": {},
   "outputs": [],
   "source": [
    "import random\n",
    "import array\n",
    "import numpy as np\n"
   ]
  },
  {
   "cell_type": "code",
   "execution_count": 2,
   "metadata": {},
   "outputs": [],
   "source": [
    "test_array = np.linspace(1,100, num = 100, dtype=int)"
   ]
  },
  {
   "cell_type": "code",
   "execution_count": 3,
   "metadata": {},
   "outputs": [
    {
     "data": {
      "text/plain": [
       "array([  1,   2,   3,   4,   5,   6,   7,   8,   9,  10,  11,  12,  13,\n",
       "        14,  15,  16,  17,  18,  19,  20,  21,  22,  23,  24,  25,  26,\n",
       "        27,  28,  29,  30,  31,  32,  33,  34,  35,  36,  37,  38,  39,\n",
       "        40,  41,  42,  43,  44,  45,  46,  47,  48,  49,  50,  51,  52,\n",
       "        53,  54,  55,  56,  57,  58,  59,  60,  61,  62,  63,  64,  65,\n",
       "        66,  67,  68,  69,  70,  71,  72,  73,  74,  75,  76,  77,  78,\n",
       "        79,  80,  81,  82,  83,  84,  85,  86,  87,  88,  89,  90,  91,\n",
       "        92,  93,  94,  95,  96,  97,  98,  99, 100])"
      ]
     },
     "execution_count": 3,
     "metadata": {},
     "output_type": "execute_result"
    }
   ],
   "source": [
    "test_array"
   ]
  },
  {
   "cell_type": "code",
   "execution_count": 4,
   "metadata": {},
   "outputs": [
    {
     "data": {
      "text/plain": [
       "array([  1,   2,   3,   4,   5,   6,   7,   8,   9,  10,  11,  12,  13,\n",
       "        14,  15,  16,  17,  18,  19,  20,  21,  22,  23,  24,  25,  26,\n",
       "        27,  28,  29,  30,  31,  32,  33,  34,  35,  36,  37,  38,  39,\n",
       "        40,  41,  42,  43,  44,  45,  46,  47,  48,  49,  50,  51,  52,\n",
       "        53,  54,  55,  56,  57,  58,  59,  60,  61,  62,  63,  64,  65,\n",
       "        66,  67,  68,  69,  70,  71,  72,  73,  74,  75,  76,  77,  78,\n",
       "        79,  80,  81,  82,  83,  84,  85,  86,  87,  88,  89,  90,  91,\n",
       "        92,  93,  94,  95,  96,  97,  98,  99, 100])"
      ]
     },
     "execution_count": 4,
     "metadata": {},
     "output_type": "execute_result"
    }
   ],
   "source": [
    "test_array"
   ]
  },
  {
   "cell_type": "code",
   "execution_count": 5,
   "metadata": {},
   "outputs": [],
   "source": [
    "\n",
    "removed_item = np.random.choice(test_array, size= len(test_array)-1, replace = False)\n"
   ]
  },
  {
   "cell_type": "code",
   "execution_count": 6,
   "metadata": {},
   "outputs": [
    {
     "data": {
      "text/plain": [
       "array([ 42,  31,  25,  18,  87,  24,  43,  93,  95,  48,  68,  64,  99,\n",
       "        62,  66,  41,  53,   3,  79,  74,  78,  54,  81,  50,  39,  37,\n",
       "        15,  72,  20,  88,  90,  73,   6,  21,  40,  11,  13, 100,  61,\n",
       "        84,   8,  51,   4,  49,  57,  67,   2,  16,  22,  28,   1,  30,\n",
       "        94,  26,   5,  71,  82,   9,  45,  58,  46,  91,  19,  44,  92,\n",
       "        80,  52,  32,  76,  60,  77,  35,  29,  14,  85,  69,  96,  86,\n",
       "        97,  65,  75,  23,  55,  47,  27,  56,  17,   7,  33,  70,  10,\n",
       "        12,  34,  36,  59,  83,  98,  63,  38])"
      ]
     },
     "execution_count": 6,
     "metadata": {},
     "output_type": "execute_result"
    }
   ],
   "source": [
    "removed_item"
   ]
  },
  {
   "cell_type": "code",
   "execution_count": 7,
   "metadata": {},
   "outputs": [],
   "source": [
    "removed_item.sort()"
   ]
  },
  {
   "cell_type": "code",
   "execution_count": 8,
   "metadata": {},
   "outputs": [
    {
     "data": {
      "text/plain": [
       "array([  1,   2,   3,   4,   5,   6,   7,   8,   9,  10,  11,  12,  13,\n",
       "        14,  15,  16,  17,  18,  19,  20,  21,  22,  23,  24,  25,  26,\n",
       "        27,  28,  29,  30,  31,  32,  33,  34,  35,  36,  37,  38,  39,\n",
       "        40,  41,  42,  43,  44,  45,  46,  47,  48,  49,  50,  51,  52,\n",
       "        53,  54,  55,  56,  57,  58,  59,  60,  61,  62,  63,  64,  65,\n",
       "        66,  67,  68,  69,  70,  71,  72,  73,  74,  75,  76,  77,  78,\n",
       "        79,  80,  81,  82,  83,  84,  85,  86,  87,  88,  90,  91,  92,\n",
       "        93,  94,  95,  96,  97,  98,  99, 100])"
      ]
     },
     "execution_count": 8,
     "metadata": {},
     "output_type": "execute_result"
    }
   ],
   "source": [
    "removed_item"
   ]
  },
  {
   "cell_type": "code",
   "execution_count": 9,
   "metadata": {},
   "outputs": [
    {
     "name": "stdout",
     "output_type": "stream",
     "text": [
      "89 is missing\n"
     ]
    }
   ],
   "source": [
    "for i in range(1,len(removed_item)):\n",
    "    if i == removed_item[i-1]:\n",
    "        pass\n",
    "    else:\n",
    "        print (i, \"is missing\")\n",
    "        break\n",
    "        "
   ]
  },
  {
   "cell_type": "code",
   "execution_count": 10,
   "metadata": {},
   "outputs": [],
   "source": [
    "test_array_sum = test_array.sum()\n",
    "removed_item_sum = removed_item.sum()"
   ]
  },
  {
   "cell_type": "code",
   "execution_count": 11,
   "metadata": {},
   "outputs": [
    {
     "data": {
      "text/plain": [
       "89"
      ]
     },
     "execution_count": 11,
     "metadata": {},
     "output_type": "execute_result"
    }
   ],
   "source": [
    "test_array_sum - removed_item_sum"
   ]
  },
  {
   "cell_type": "markdown",
   "metadata": {},
   "source": [
    "### How to find and remove Duplicate Numbers on a given integer array."
   ]
  },
  {
   "cell_type": "code",
   "execution_count": 12,
   "metadata": {},
   "outputs": [],
   "source": [
    "test_array_dup = np.array(np.random.choice(test_array, 100))"
   ]
  },
  {
   "cell_type": "code",
   "execution_count": 13,
   "metadata": {},
   "outputs": [
    {
     "data": {
      "text/plain": [
       "100"
      ]
     },
     "execution_count": 13,
     "metadata": {},
     "output_type": "execute_result"
    }
   ],
   "source": [
    "len(test_array_dup)"
   ]
  },
  {
   "cell_type": "code",
   "execution_count": 14,
   "metadata": {},
   "outputs": [
    {
     "data": {
      "text/plain": [
       "60"
      ]
     },
     "execution_count": 14,
     "metadata": {},
     "output_type": "execute_result"
    }
   ],
   "source": [
    "len(set(test_array_dup))\n"
   ]
  },
  {
   "cell_type": "code",
   "execution_count": 15,
   "metadata": {},
   "outputs": [],
   "source": [
    "seen = set()\n",
    "dup = set()\n",
    "for i in (test_array_dup):\n",
    "    if i in seen:\n",
    "        dup.add(i)\n",
    "    else:\n",
    "        seen.add(i)\n",
    "        "
   ]
  },
  {
   "cell_type": "code",
   "execution_count": 16,
   "metadata": {},
   "outputs": [
    {
     "data": {
      "text/plain": [
       "{4,\n",
       " 7,\n",
       " 8,\n",
       " 11,\n",
       " 20,\n",
       " 22,\n",
       " 39,\n",
       " 43,\n",
       " 45,\n",
       " 47,\n",
       " 53,\n",
       " 55,\n",
       " 64,\n",
       " 69,\n",
       " 71,\n",
       " 72,\n",
       " 73,\n",
       " 74,\n",
       " 75,\n",
       " 77,\n",
       " 80,\n",
       " 81,\n",
       " 93,\n",
       " 94,\n",
       " 95,\n",
       " 96,\n",
       " 99}"
      ]
     },
     "execution_count": 16,
     "metadata": {},
     "output_type": "execute_result"
    }
   ],
   "source": [
    "dup"
   ]
  },
  {
   "cell_type": "markdown",
   "metadata": {},
   "source": [
    "### How do you find the largest and smallest number in an unsorted integer array?"
   ]
  },
  {
   "cell_type": "code",
   "execution_count": 17,
   "metadata": {},
   "outputs": [
    {
     "name": "stdout",
     "output_type": "stream",
     "text": [
      "99 is the largest, 2 is the lowest.\n"
     ]
    }
   ],
   "source": [
    "high = test_array_dup[0]\n",
    "low = test_array_dup[0]\n",
    "for i in test_array_dup:\n",
    "    if i > low and i < high:\n",
    "        pass\n",
    "    elif  high < i:\n",
    "        high = i\n",
    "    elif low > i:\n",
    "        low = i\n",
    "\n",
    "print (high, \"is the largest,\", low, \"is the lowest.\")   \n"
   ]
  },
  {
   "cell_type": "code",
   "execution_count": 18,
   "metadata": {},
   "outputs": [
    {
     "data": {
      "text/plain": [
       "2"
      ]
     },
     "execution_count": 18,
     "metadata": {},
     "output_type": "execute_result"
    }
   ],
   "source": [
    "test_array_dup.min()"
   ]
  },
  {
   "cell_type": "code",
   "execution_count": 19,
   "metadata": {},
   "outputs": [
    {
     "data": {
      "text/plain": [
       "99"
      ]
     },
     "execution_count": 19,
     "metadata": {},
     "output_type": "execute_result"
    }
   ],
   "source": [
    "test_array_dup.max()"
   ]
  },
  {
   "cell_type": "markdown",
   "metadata": {},
   "source": [
    "### How do you find all pairs of an integer array whose sum is equal to a given number?"
   ]
  },
  {
   "cell_type": "code",
   "execution_count": 20,
   "metadata": {},
   "outputs": [],
   "source": [
    "random_number = random.randint(50, 200)"
   ]
  },
  {
   "cell_type": "code",
   "execution_count": 21,
   "metadata": {},
   "outputs": [
    {
     "data": {
      "text/plain": [
       "132"
      ]
     },
     "execution_count": 21,
     "metadata": {},
     "output_type": "execute_result"
    }
   ],
   "source": [
    "random_number"
   ]
  },
  {
   "cell_type": "code",
   "execution_count": 22,
   "metadata": {},
   "outputs": [],
   "source": [
    "counter = 0\n",
    "equality = []\n",
    "achieved_list = []\n",
    "for i in range(len(test_array_dup)):\n",
    "    if test_array_dup[i] > random_number:\n",
    "        pass\n",
    "    else:\n",
    "        for j in range(i+1, len(test_array_dup)):\n",
    "            if test_array_dup[j] > random_number:\n",
    "                pass\n",
    "            else:\n",
    "                if test_array_dup[i]+test_array_dup[j] == random_number:\n",
    "                    equality.append([test_array_dup[i],test_array_dup[j], i, j])\n"
   ]
  },
  {
   "cell_type": "code",
   "execution_count": 23,
   "metadata": {},
   "outputs": [
    {
     "data": {
      "text/plain": [
       "[[58, 74, 2, 18],\n",
       " [58, 74, 2, 32],\n",
       " [93, 39, 9, 11],\n",
       " [93, 39, 9, 49],\n",
       " [39, 93, 11, 22],\n",
       " [39, 93, 11, 26],\n",
       " [39, 93, 11, 82],\n",
       " [55, 77, 12, 30],\n",
       " [55, 77, 12, 77],\n",
       " [81, 51, 16, 92],\n",
       " [85, 47, 17, 67],\n",
       " [85, 47, 17, 85],\n",
       " [94, 38, 20, 53],\n",
       " [93, 39, 22, 49],\n",
       " [89, 43, 23, 34],\n",
       " [89, 43, 23, 44],\n",
       " [89, 43, 23, 81],\n",
       " [94, 38, 24, 53],\n",
       " [72, 60, 25, 65],\n",
       " [93, 39, 26, 49],\n",
       " [72, 60, 27, 65],\n",
       " [75, 57, 29, 50],\n",
       " [77, 55, 30, 54],\n",
       " [33, 99, 37, 43],\n",
       " [33, 99, 37, 98],\n",
       " [94, 38, 40, 53],\n",
       " [36, 96, 41, 45],\n",
       " [36, 96, 41, 88],\n",
       " [36, 96, 41, 93],\n",
       " [34, 98, 46, 89],\n",
       " [39, 93, 49, 82],\n",
       " [57, 75, 50, 61],\n",
       " [57, 75, 50, 95],\n",
       " [55, 77, 54, 77],\n",
       " [44, 88, 57, 74],\n",
       " [53, 79, 59, 60],\n",
       " [79, 53, 60, 75],\n",
       " [79, 53, 60, 96],\n",
       " [81, 51, 73, 92]]"
      ]
     },
     "execution_count": 23,
     "metadata": {},
     "output_type": "execute_result"
    }
   ],
   "source": [
    "equality"
   ]
  },
  {
   "cell_type": "markdown",
   "metadata": {},
   "source": [
    "### How is an integer array sorted in place using the quicksort algorithm? "
   ]
  },
  {
   "cell_type": "markdown",
   "metadata": {},
   "source": [
    "A random pivot is used. That pivot is a number occupying a slot in the array. Ideally its near the middle, but that is not too important. The algorithm will scan both sides of the array to ensure that the numbers on the left are less than the pivot number the ones on the right are greater. If they are not, they are swapped. This continues with a new pivot everytime."
   ]
  },
  {
   "cell_type": "code",
   "execution_count": 227,
   "metadata": {},
   "outputs": [],
   "source": [
    "qs_array = [6,5,3,1,8,7,2,4]\n"
   ]
  },
  {
   "cell_type": "code",
   "execution_count": 229,
   "metadata": {},
   "outputs": [],
   "source": [
    "pivot = random.choice(qs_array)"
   ]
  },
  {
   "cell_type": "code",
   "execution_count": 230,
   "metadata": {},
   "outputs": [
    {
     "data": {
      "text/plain": [
       "7"
      ]
     },
     "execution_count": 230,
     "metadata": {},
     "output_type": "execute_result"
    }
   ],
   "source": [
    "pivot"
   ]
  },
  {
   "cell_type": "code",
   "execution_count": null,
   "metadata": {},
   "outputs": [],
   "source": [
    "#comparision of the sides.\n",
    "left_array = qs_array\n",
    "for left"
   ]
  },
  {
   "cell_type": "markdown",
   "metadata": {},
   "source": [
    "### How do you remove duplicates from an array in place? "
   ]
  },
  {
   "cell_type": "code",
   "execution_count": 25,
   "metadata": {},
   "outputs": [],
   "source": [
    "test_array_ip = test_array_dup"
   ]
  },
  {
   "cell_type": "code",
   "execution_count": 40,
   "metadata": {},
   "outputs": [
    {
     "name": "stdout",
     "output_type": "stream",
     "text": [
      "95 set()\n",
      "73 {95}\n",
      "58 {73, 95}\n",
      "7 {73, 58, 95}\n",
      "22 {73, 58, 7, 95}\n",
      "64 {7, 73, 22, 58, 95}\n",
      "80 {64, 7, 73, 22, 58, 95}\n",
      "92 {64, 7, 73, 80, 22, 58, 95}\n",
      "93 {64, 7, 73, 80, 22, 58, 92, 95}\n",
      "45 {64, 7, 73, 80, 22, 58, 92, 93, 95}\n",
      "39 {64, 7, 73, 45, 80, 22, 58, 92, 93, 95}\n",
      "55 {64, 7, 39, 73, 45, 80, 22, 58, 92, 93, 95}\n",
      "21 {64, 7, 39, 73, 45, 80, 22, 55, 58, 92, 93, 95}\n",
      "48 {64, 7, 39, 73, 45, 80, 21, 22, 55, 58, 92, 93, 95}\n",
      "12 {64, 7, 39, 73, 45, 80, 48, 21, 22, 55, 58, 92, 93, 95}\n",
      "81 {64, 7, 39, 73, 12, 45, 80, 48, 21, 22, 55, 58, 92, 93, 95}\n",
      "85 {64, 7, 39, 73, 12, 45, 80, 48, 81, 21, 22, 55, 58, 92, 93, 95}\n",
      "74 {64, 7, 39, 73, 12, 45, 80, 48, 81, 21, 22, 55, 85, 58, 92, 93, 95}\n",
      "94 {64, 7, 39, 73, 74, 12, 45, 80, 48, 81, 21, 22, 55, 85, 58, 92, 93, 95}\n",
      "20 {64, 7, 39, 73, 74, 12, 45, 80, 48, 81, 21, 22, 55, 85, 58, 92, 93, 94, 95}\n",
      "89 {64, 7, 39, 73, 74, 12, 45, 80, 48, 81, 20, 21, 22, 55, 85, 58, 92, 93, 94, 95}\n",
      "72 {7, 12, 20, 21, 22, 39, 45, 48, 55, 58, 64, 73, 74, 80, 81, 85, 89, 92, 93, 94, 95}\n",
      "91 {7, 12, 20, 21, 22, 39, 45, 48, 55, 58, 64, 72, 73, 74, 80, 81, 85, 89, 92, 93, 94, 95}\n",
      "75 {7, 12, 20, 21, 22, 39, 45, 48, 55, 58, 64, 72, 73, 74, 80, 81, 85, 89, 91, 92, 93, 94, 95}\n",
      "77 {7, 12, 20, 21, 22, 39, 45, 48, 55, 58, 64, 72, 73, 74, 75, 80, 81, 85, 89, 91, 92, 93, 94, 95}\n",
      "8 {7, 12, 20, 21, 22, 39, 45, 48, 55, 58, 64, 72, 73, 74, 75, 77, 80, 81, 85, 89, 91, 92, 93, 94, 95}\n",
      "43 {7, 8, 12, 20, 21, 22, 39, 45, 48, 55, 58, 64, 72, 73, 74, 75, 77, 80, 81, 85, 89, 91, 92, 93, 94, 95}\n",
      "32 {7, 8, 12, 20, 21, 22, 39, 43, 45, 48, 55, 58, 64, 72, 73, 74, 75, 77, 80, 81, 85, 89, 91, 92, 93, 94, 95}\n",
      "33 {7, 8, 12, 20, 21, 22, 32, 39, 43, 45, 48, 55, 58, 64, 72, 73, 74, 75, 77, 80, 81, 85, 89, 91, 92, 93, 94, 95}\n",
      "36 {7, 8, 12, 20, 21, 22, 32, 33, 39, 43, 45, 48, 55, 58, 64, 72, 73, 74, 75, 77, 80, 81, 85, 89, 91, 92, 93, 94, 95}\n",
      "11 {7, 8, 12, 20, 21, 22, 32, 33, 36, 39, 43, 45, 48, 55, 58, 64, 72, 73, 74, 75, 77, 80, 81, 85, 89, 91, 92, 93, 94, 95}\n",
      "99 {7, 8, 11, 12, 20, 21, 22, 32, 33, 36, 39, 43, 45, 48, 55, 58, 64, 72, 73, 74, 75, 77, 80, 81, 85, 89, 91, 92, 93, 94, 95}\n",
      "96 {7, 8, 11, 12, 20, 21, 22, 32, 33, 36, 39, 43, 45, 48, 55, 58, 64, 72, 73, 74, 75, 77, 80, 81, 85, 89, 91, 92, 93, 94, 95, 99}\n",
      "34 {7, 8, 11, 12, 20, 21, 22, 32, 33, 36, 39, 43, 45, 48, 55, 58, 64, 72, 73, 74, 75, 77, 80, 81, 85, 89, 91, 92, 93, 94, 95, 96, 99}\n",
      "14 {7, 8, 11, 12, 20, 21, 22, 32, 33, 34, 36, 39, 43, 45, 48, 55, 58, 64, 72, 73, 74, 75, 77, 80, 81, 85, 89, 91, 92, 93, 94, 95, 96, 99}\n",
      "54 {7, 8, 11, 12, 14, 20, 21, 22, 32, 33, 34, 36, 39, 43, 45, 48, 55, 58, 64, 72, 73, 74, 75, 77, 80, 81, 85, 89, 91, 92, 93, 94, 95, 96, 99}\n",
      "57 {7, 8, 11, 12, 14, 20, 21, 22, 32, 33, 34, 36, 39, 43, 45, 48, 54, 55, 58, 64, 72, 73, 74, 75, 77, 80, 81, 85, 89, 91, 92, 93, 94, 95, 96, 99}\n",
      "38 {7, 8, 11, 12, 14, 20, 21, 22, 32, 33, 34, 36, 39, 43, 45, 48, 54, 55, 57, 58, 64, 72, 73, 74, 75, 77, 80, 81, 85, 89, 91, 92, 93, 94, 95, 96, 99}\n",
      "69 {7, 8, 11, 12, 14, 20, 21, 22, 32, 33, 34, 36, 38, 39, 43, 45, 48, 54, 55, 57, 58, 64, 72, 73, 74, 75, 77, 80, 81, 85, 89, 91, 92, 93, 94, 95, 96, 99}\n",
      "6 {7, 8, 11, 12, 14, 20, 21, 22, 32, 33, 34, 36, 38, 39, 43, 45, 48, 54, 55, 57, 58, 64, 69, 72, 73, 74, 75, 77, 80, 81, 85, 89, 91, 92, 93, 94, 95, 96, 99}\n",
      "44 {6, 7, 8, 11, 12, 14, 20, 21, 22, 32, 33, 34, 36, 38, 39, 43, 45, 48, 54, 55, 57, 58, 64, 69, 72, 73, 74, 75, 77, 80, 81, 85, 89, 91, 92, 93, 94, 95, 96, 99}\n",
      "53 {6, 7, 8, 11, 12, 14, 20, 21, 22, 32, 33, 34, 36, 38, 39, 43, 44, 45, 48, 54, 55, 57, 58, 64, 69, 72, 73, 74, 75, 77, 80, 81, 85, 89, 91, 92, 93, 94, 95, 96, 99}\n",
      "79 {6, 7, 8, 11, 12, 14, 20, 21, 22, 32, 33, 34, 36, 38, 39, 43, 44, 45, 48, 53, 54, 55, 57, 58, 64, 69, 72, 73, 74, 75, 77, 80, 81, 85, 89, 91, 92, 93, 94, 95, 96, 99}\n",
      "71 {6, 7, 8, 11, 12, 14, 20, 21, 22, 32, 33, 34, 36, 38, 39, 43, 44, 45, 48, 53, 54, 55, 57, 58, 64, 69, 72, 73, 74, 75, 77, 79, 80, 81, 85, 89, 91, 92, 93, 94, 95, 96, 99}\n",
      "2 {6, 7, 8, 11, 12, 14, 20, 21, 22, 32, 33, 34, 36, 38, 39, 43, 44, 45, 48, 53, 54, 55, 57, 58, 64, 69, 71, 72, 73, 74, 75, 77, 79, 80, 81, 85, 89, 91, 92, 93, 94, 95, 96, 99}\n",
      "82 {2, 6, 7, 8, 11, 12, 14, 20, 21, 22, 32, 33, 34, 36, 38, 39, 43, 44, 45, 48, 53, 54, 55, 57, 58, 64, 69, 71, 72, 73, 74, 75, 77, 79, 80, 81, 85, 89, 91, 92, 93, 94, 95, 96, 99}\n",
      "60 {2, 6, 7, 8, 11, 12, 14, 20, 21, 22, 32, 33, 34, 36, 38, 39, 43, 44, 45, 48, 53, 54, 55, 57, 58, 64, 69, 71, 72, 73, 74, 75, 77, 79, 80, 81, 82, 85, 89, 91, 92, 93, 94, 95, 96, 99}\n",
      "47 {2, 6, 7, 8, 11, 12, 14, 20, 21, 22, 32, 33, 34, 36, 38, 39, 43, 44, 45, 48, 53, 54, 55, 57, 58, 60, 64, 69, 71, 72, 73, 74, 75, 77, 79, 80, 81, 82, 85, 89, 91, 92, 93, 94, 95, 96, 99}\n",
      "3 {2, 6, 7, 8, 11, 12, 14, 20, 21, 22, 32, 33, 34, 36, 38, 39, 43, 44, 45, 47, 48, 53, 54, 55, 57, 58, 60, 64, 69, 71, 72, 73, 74, 75, 77, 79, 80, 81, 82, 85, 89, 91, 92, 93, 94, 95, 96, 99}\n",
      "88 {2, 3, 6, 7, 8, 11, 12, 14, 20, 21, 22, 32, 33, 34, 36, 38, 39, 43, 44, 45, 47, 48, 53, 54, 55, 57, 58, 60, 64, 69, 71, 72, 73, 74, 75, 77, 79, 80, 81, 82, 85, 89, 91, 92, 93, 94, 95, 96, 99}\n",
      "30 {2, 3, 6, 7, 8, 11, 12, 14, 20, 21, 22, 32, 33, 34, 36, 38, 39, 43, 44, 45, 47, 48, 53, 54, 55, 57, 58, 60, 64, 69, 71, 72, 73, 74, 75, 77, 79, 80, 81, 82, 85, 88, 89, 91, 92, 93, 94, 95, 96, 99}\n",
      "35 {2, 3, 6, 7, 8, 11, 12, 14, 20, 21, 22, 30, 32, 33, 34, 36, 38, 39, 43, 44, 45, 47, 48, 53, 54, 55, 57, 58, 60, 64, 69, 71, 72, 73, 74, 75, 77, 79, 80, 81, 82, 85, 88, 89, 91, 92, 93, 94, 95, 96, 99}\n",
      "28 {2, 3, 6, 7, 8, 11, 12, 14, 20, 21, 22, 30, 32, 33, 34, 35, 36, 38, 39, 43, 44, 45, 47, 48, 53, 54, 55, 57, 58, 60, 64, 69, 71, 72, 73, 74, 75, 77, 79, 80, 81, 82, 85, 88, 89, 91, 92, 93, 94, 95, 96, 99}\n",
      "4 {2, 3, 6, 7, 8, 11, 12, 14, 20, 21, 22, 28, 30, 32, 33, 34, 35, 36, 38, 39, 43, 44, 45, 47, 48, 53, 54, 55, 57, 58, 60, 64, 69, 71, 72, 73, 74, 75, 77, 79, 80, 81, 82, 85, 88, 89, 91, 92, 93, 94, 95, 96, 99}\n",
      "83 {2, 3, 4, 6, 7, 8, 11, 12, 14, 20, 21, 22, 28, 30, 32, 33, 34, 35, 36, 38, 39, 43, 44, 45, 47, 48, 53, 54, 55, 57, 58, 60, 64, 69, 71, 72, 73, 74, 75, 77, 79, 80, 81, 82, 85, 88, 89, 91, 92, 93, 94, 95, 96, 99}\n",
      "98 {2, 3, 4, 6, 7, 8, 11, 12, 14, 20, 21, 22, 28, 30, 32, 33, 34, 35, 36, 38, 39, 43, 44, 45, 47, 48, 53, 54, 55, 57, 58, 60, 64, 69, 71, 72, 73, 74, 75, 77, 79, 80, 81, 82, 83, 85, 88, 89, 91, 92, 93, 94, 95, 96, 99}\n",
      "13 {2, 3, 4, 6, 7, 8, 11, 12, 14, 20, 21, 22, 28, 30, 32, 33, 34, 35, 36, 38, 39, 43, 44, 45, 47, 48, 53, 54, 55, 57, 58, 60, 64, 69, 71, 72, 73, 74, 75, 77, 79, 80, 81, 82, 83, 85, 88, 89, 91, 92, 93, 94, 95, 96, 98, 99}\n",
      "86 {2, 3, 4, 6, 7, 8, 11, 12, 13, 14, 20, 21, 22, 28, 30, 32, 33, 34, 35, 36, 38, 39, 43, 44, 45, 47, 48, 53, 54, 55, 57, 58, 60, 64, 69, 71, 72, 73, 74, 75, 77, 79, 80, 81, 82, 83, 85, 88, 89, 91, 92, 93, 94, 95, 96, 98, 99}\n",
      "51 {2, 3, 4, 6, 7, 8, 11, 12, 13, 14, 20, 21, 22, 28, 30, 32, 33, 34, 35, 36, 38, 39, 43, 44, 45, 47, 48, 53, 54, 55, 57, 58, 60, 64, 69, 71, 72, 73, 74, 75, 77, 79, 80, 81, 82, 83, 85, 86, 88, 89, 91, 92, 93, 94, 95, 96, 98, 99}\n",
      "19 {2, 3, 4, 6, 7, 8, 11, 12, 13, 14, 20, 21, 22, 28, 30, 32, 33, 34, 35, 36, 38, 39, 43, 44, 45, 47, 48, 51, 53, 54, 55, 57, 58, 60, 64, 69, 71, 72, 73, 74, 75, 77, 79, 80, 81, 82, 83, 85, 86, 88, 89, 91, 92, 93, 94, 95, 96, 98, 99}\n"
     ]
    },
    {
     "ename": "TypeError",
     "evalue": "delete() got an unexpected keyword argument 'inplace'",
     "output_type": "error",
     "traceback": [
      "\u001b[0;31m---------------------------------------------------------------------------\u001b[0m",
      "\u001b[0;31mTypeError\u001b[0m                                 Traceback (most recent call last)",
      "\u001b[0;32m<ipython-input-40-c7c39ab1e25b>\u001b[0m in \u001b[0;36m<module>\u001b[0;34m()\u001b[0m\n\u001b[1;32m      7\u001b[0m     \u001b[0;32melse\u001b[0m\u001b[0;34m:\u001b[0m\u001b[0;34m\u001b[0m\u001b[0m\n\u001b[1;32m      8\u001b[0m         \u001b[0mremoval_list\u001b[0m\u001b[0;34m.\u001b[0m\u001b[0mappend\u001b[0m\u001b[0;34m(\u001b[0m\u001b[0mi\u001b[0m\u001b[0;34m)\u001b[0m\u001b[0;34m\u001b[0m\u001b[0m\n\u001b[0;32m----> 9\u001b[0;31m \u001b[0mnp\u001b[0m\u001b[0;34m.\u001b[0m\u001b[0mdelete\u001b[0m\u001b[0;34m(\u001b[0m\u001b[0mtest_array_ip\u001b[0m\u001b[0;34m,\u001b[0m \u001b[0mremoval_list\u001b[0m\u001b[0;34m,\u001b[0m \u001b[0minplace\u001b[0m\u001b[0;34m=\u001b[0m \u001b[0;32mTrue\u001b[0m\u001b[0;34m)\u001b[0m\u001b[0;34m\u001b[0m\u001b[0m\n\u001b[0m",
      "\u001b[0;31mTypeError\u001b[0m: delete() got an unexpected keyword argument 'inplace'"
     ]
    }
   ],
   "source": [
    "seen_set = set()\n",
    "removal_list = []\n",
    "for i in range(len(test_array_ip)):\n",
    "    if test_array_ip[i] not in seen_set:\n",
    "        seen_set.add(test_array_ip[i])\n",
    "    else:\n",
    "        removal_list.append(i)"
   ]
  },
  {
   "cell_type": "code",
   "execution_count": 43,
   "metadata": {},
   "outputs": [],
   "source": [
    "test_array_ip = np.delete(test_array_ip, removal_list)"
   ]
  },
  {
   "cell_type": "code",
   "execution_count": 45,
   "metadata": {},
   "outputs": [
    {
     "data": {
      "text/plain": [
       "60"
      ]
     },
     "execution_count": 45,
     "metadata": {},
     "output_type": "execute_result"
    }
   ],
   "source": [
    "len(test_array_ip)"
   ]
  },
  {
   "cell_type": "markdown",
   "metadata": {},
   "source": [
    "### How do you reverse an array in place in Java? \n"
   ]
  },
  {
   "cell_type": "code",
   "execution_count": 55,
   "metadata": {},
   "outputs": [],
   "source": [
    "def swap(array, x,y):\n",
    "    array[x],array[y] = array[y],array[x]\n",
    "    return array"
   ]
  },
  {
   "cell_type": "code",
   "execution_count": 47,
   "metadata": {},
   "outputs": [],
   "source": [
    "test_array_reversal = test_array_dup"
   ]
  },
  {
   "cell_type": "code",
   "execution_count": 60,
   "metadata": {},
   "outputs": [],
   "source": [
    "#length that we plan to use\n",
    "array_length = int(len(test_array_reversal)/2)"
   ]
  },
  {
   "cell_type": "code",
   "execution_count": 58,
   "metadata": {},
   "outputs": [
    {
     "data": {
      "text/plain": [
       "50.0"
      ]
     },
     "execution_count": 58,
     "metadata": {},
     "output_type": "execute_result"
    }
   ],
   "source": [
    "array_length"
   ]
  },
  {
   "cell_type": "code",
   "execution_count": 61,
   "metadata": {},
   "outputs": [],
   "source": [
    "for i in range(array_length):\n",
    "    swap(test_array_reversal, i, -i-1)"
   ]
  },
  {
   "cell_type": "code",
   "execution_count": 56,
   "metadata": {},
   "outputs": [
    {
     "data": {
      "text/plain": [
       "array([73, 95, 58, 95,  7, 22, 64, 80, 92, 93, 45, 39, 55, 21, 48, 12, 81,\n",
       "       85, 74,  7, 94, 20, 93, 89, 94, 72, 93, 72, 91, 75, 77, 64, 74,  8,\n",
       "       43, 32, 22, 33, 20, 64, 94, 36, 11, 99, 43, 96, 34, 14, 54, 39, 57,\n",
       "        7, 45, 38, 55, 69,  6, 44,  7, 53, 79, 75, 71,  2, 82, 60,  8, 47,\n",
       "       11, 71, 71,  3, 73, 81, 88, 53, 30, 77, 35, 28,  7, 43, 93, 45,  4,\n",
       "       47, 69, 83, 96, 98, 13, 86, 51, 96,  4, 75, 53, 80, 99, 19])"
      ]
     },
     "execution_count": 56,
     "metadata": {},
     "output_type": "execute_result"
    }
   ],
   "source": [
    "test_ar"
   ]
  },
  {
   "cell_type": "code",
   "execution_count": 52,
   "metadata": {},
   "outputs": [
    {
     "data": {
      "text/plain": [
       "array([95, 73, 58, 95,  7, 22, 64, 80, 92, 93, 45, 39, 55, 21, 48, 12, 81,\n",
       "       85, 74,  7, 94, 20, 93, 89, 94, 72, 93, 72, 91, 75, 77, 64, 74,  8,\n",
       "       43, 32, 22, 33, 20, 64, 94, 36, 11, 99, 43, 96, 34, 14, 54, 39, 57,\n",
       "        7, 45, 38, 55, 69,  6, 44,  7, 53, 79, 75, 71,  2, 82, 60,  8, 47,\n",
       "       11, 71, 71,  3, 73, 81, 88, 53, 30, 77, 35, 28,  7, 43, 93, 45,  4,\n",
       "       47, 69, 83, 96, 98, 13, 86, 51, 96,  4, 75, 53, 80, 99, 19])"
      ]
     },
     "execution_count": 52,
     "metadata": {},
     "output_type": "execute_result"
    }
   ],
   "source": []
  },
  {
   "cell_type": "code",
   "execution_count": null,
   "metadata": {},
   "outputs": [],
   "source": []
  }
 ],
 "metadata": {
  "kernelspec": {
   "display_name": "Python 3",
   "language": "python",
   "name": "python3"
  },
  "language_info": {
   "codemirror_mode": {
    "name": "ipython",
    "version": 3
   },
   "file_extension": ".py",
   "mimetype": "text/x-python",
   "name": "python",
   "nbconvert_exporter": "python",
   "pygments_lexer": "ipython3",
   "version": "3.6.5"
  }
 },
 "nbformat": 4,
 "nbformat_minor": 2
}
