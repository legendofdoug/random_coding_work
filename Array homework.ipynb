{
 "cells": [
  {
   "cell_type": "markdown",
   "metadata": {},
   "source": [
    "## How to find missing number in a given integer array of 1 to 100"
   ]
  },
  {
   "cell_type": "code",
   "execution_count": 74,
   "metadata": {},
   "outputs": [],
   "source": [
    "import random\n",
    "import array\n",
    "import numpy as np\n"
   ]
  },
  {
   "cell_type": "code",
   "execution_count": 88,
   "metadata": {},
   "outputs": [],
   "source": [
    "test_array = np.linspace(1,100, num = 100, dtype=int)"
   ]
  },
  {
   "cell_type": "code",
   "execution_count": 89,
   "metadata": {},
   "outputs": [
    {
     "data": {
      "text/plain": [
       "array([  1,   2,   3,   4,   5,   6,   7,   8,   9,  10,  11,  12,  13,\n",
       "        14,  15,  16,  17,  18,  19,  20,  21,  22,  23,  24,  25,  26,\n",
       "        27,  28,  29,  30,  31,  32,  33,  34,  35,  36,  37,  38,  39,\n",
       "        40,  41,  42,  43,  44,  45,  46,  47,  48,  49,  50,  51,  52,\n",
       "        53,  54,  55,  56,  57,  58,  59,  60,  61,  62,  63,  64,  65,\n",
       "        66,  67,  68,  69,  70,  71,  72,  73,  74,  75,  76,  77,  78,\n",
       "        79,  80,  81,  82,  83,  84,  85,  86,  87,  88,  89,  90,  91,\n",
       "        92,  93,  94,  95,  96,  97,  98,  99, 100])"
      ]
     },
     "execution_count": 89,
     "metadata": {},
     "output_type": "execute_result"
    }
   ],
   "source": [
    "test_array"
   ]
  },
  {
   "cell_type": "code",
   "execution_count": 90,
   "metadata": {},
   "outputs": [
    {
     "data": {
      "text/plain": [
       "array([  1,   2,   3,   4,   5,   6,   7,   8,   9,  10,  11,  12,  13,\n",
       "        14,  15,  16,  17,  18,  19,  20,  21,  22,  23,  24,  25,  26,\n",
       "        27,  28,  29,  30,  31,  32,  33,  34,  35,  36,  37,  38,  39,\n",
       "        40,  41,  42,  43,  44,  45,  46,  47,  48,  49,  50,  51,  52,\n",
       "        53,  54,  55,  56,  57,  58,  59,  60,  61,  62,  63,  64,  65,\n",
       "        66,  67,  68,  69,  70,  71,  72,  73,  74,  75,  76,  77,  78,\n",
       "        79,  80,  81,  82,  83,  84,  85,  86,  87,  88,  89,  90,  91,\n",
       "        92,  93,  94,  95,  96,  97,  98,  99, 100])"
      ]
     },
     "execution_count": 90,
     "metadata": {},
     "output_type": "execute_result"
    }
   ],
   "source": [
    "test_array"
   ]
  },
  {
   "cell_type": "code",
   "execution_count": 91,
   "metadata": {},
   "outputs": [],
   "source": [
    "\n",
    "removed_item = np.random.choice(test_array, size= len(test_array)-1, replace = False)\n"
   ]
  },
  {
   "cell_type": "code",
   "execution_count": 92,
   "metadata": {},
   "outputs": [
    {
     "data": {
      "text/plain": [
       "array([ 21,  49,  27,  42,   1,  73,  74,  86,  82,  75,  46,  83,  96,\n",
       "        52,  51,  16,  24,  94,  65,  93,  10,  50,  47,  32,  37,  18,\n",
       "        90,  53,   6,  43,  84,   8,  70,   9,  61,  99,  87,  11,  58,\n",
       "        89,  15,  41,   4,  77,  35,  63,  79,  85,  62, 100,  17,  97,\n",
       "        95,  19,  81,   3,  48,  45,  39,  34,   7,  78,  59,  55,  31,\n",
       "        91,  13,  98,  40,  69,  80,   5,  64,  28,  23,  60,  30,  36,\n",
       "        14,  29,   2,  68,  76,  72,  88,  12,  26,  38,  92,  20,  22,\n",
       "        25,  56,  54,  57,  33,  44,  67,  71])"
      ]
     },
     "execution_count": 92,
     "metadata": {},
     "output_type": "execute_result"
    }
   ],
   "source": [
    "removed_item"
   ]
  },
  {
   "cell_type": "code",
   "execution_count": 96,
   "metadata": {},
   "outputs": [],
   "source": [
    "removed_item.sort()"
   ]
  },
  {
   "cell_type": "code",
   "execution_count": 117,
   "metadata": {},
   "outputs": [
    {
     "data": {
      "text/plain": [
       "array([  1,   2,   3,   4,   5,   6,   7,   8,   9,  10,  11,  12,  13,\n",
       "        14,  15,  16,  17,  18,  19,  20,  21,  22,  23,  24,  25,  26,\n",
       "        27,  28,  29,  30,  31,  32,  33,  34,  35,  36,  37,  38,  39,\n",
       "        40,  41,  42,  43,  44,  45,  46,  47,  48,  49,  50,  51,  52,\n",
       "        53,  54,  55,  56,  57,  58,  59,  60,  61,  62,  63,  64,  65,\n",
       "        67,  68,  69,  70,  71,  72,  73,  74,  75,  76,  77,  78,  79,\n",
       "        80,  81,  82,  83,  84,  85,  86,  87,  88,  89,  90,  91,  92,\n",
       "        93,  94,  95,  96,  97,  98,  99, 100])"
      ]
     },
     "execution_count": 117,
     "metadata": {},
     "output_type": "execute_result"
    }
   ],
   "source": [
    "removed_item"
   ]
  },
  {
   "cell_type": "code",
   "execution_count": 125,
   "metadata": {},
   "outputs": [
    {
     "name": "stdout",
     "output_type": "stream",
     "text": [
      "66 is missing\n"
     ]
    }
   ],
   "source": [
    "for i in range(1,len(removed_item)):\n",
    "    if i == removed_item[i-1]:\n",
    "        pass\n",
    "    else:\n",
    "        print (i, \"is missing\")\n",
    "        break\n",
    "        "
   ]
  },
  {
   "cell_type": "code",
   "execution_count": 135,
   "metadata": {},
   "outputs": [],
   "source": [
    "test_array_sum = test_array.sum()\n",
    "removed_item_sum = removed_item.sum()"
   ]
  },
  {
   "cell_type": "code",
   "execution_count": 136,
   "metadata": {},
   "outputs": [
    {
     "data": {
      "text/plain": [
       "66"
      ]
     },
     "execution_count": 136,
     "metadata": {},
     "output_type": "execute_result"
    }
   ],
   "source": [
    "test_array_sum - removed_item_sum"
   ]
  },
  {
   "cell_type": "markdown",
   "metadata": {},
   "source": [
    "### How to find and remove Duplicate Numbers on a given integer array."
   ]
  },
  {
   "cell_type": "code",
   "execution_count": 142,
   "metadata": {},
   "outputs": [],
   "source": [
    "test_array_dup = np.array(np.random.choice(test_array, 100))"
   ]
  },
  {
   "cell_type": "code",
   "execution_count": 161,
   "metadata": {},
   "outputs": [
    {
     "data": {
      "text/plain": [
       "100"
      ]
     },
     "execution_count": 161,
     "metadata": {},
     "output_type": "execute_result"
    }
   ],
   "source": [
    "len(test_array_dup)"
   ]
  },
  {
   "cell_type": "code",
   "execution_count": 160,
   "metadata": {},
   "outputs": [
    {
     "data": {
      "text/plain": [
       "67"
      ]
     },
     "execution_count": 160,
     "metadata": {},
     "output_type": "execute_result"
    }
   ],
   "source": [
    "len(set(test_array_dup))\n"
   ]
  },
  {
   "cell_type": "code",
   "execution_count": 175,
   "metadata": {},
   "outputs": [],
   "source": [
    "seen = set()\n",
    "dup = set()\n",
    "for i in (test_array_dup):\n",
    "    if i in seen:\n",
    "        dup.add(i)\n",
    "    else:\n",
    "        seen.add(i)\n",
    "        "
   ]
  },
  {
   "cell_type": "code",
   "execution_count": 179,
   "metadata": {},
   "outputs": [
    {
     "data": {
      "text/plain": [
       "{4,\n",
       " 7,\n",
       " 8,\n",
       " 9,\n",
       " 14,\n",
       " 16,\n",
       " 18,\n",
       " 19,\n",
       " 32,\n",
       " 34,\n",
       " 37,\n",
       " 38,\n",
       " 49,\n",
       " 50,\n",
       " 54,\n",
       " 62,\n",
       " 70,\n",
       " 71,\n",
       " 77,\n",
       " 81,\n",
       " 86,\n",
       " 95}"
      ]
     },
     "execution_count": 179,
     "metadata": {},
     "output_type": "execute_result"
    }
   ],
   "source": [
    "dup"
   ]
  },
  {
   "cell_type": "markdown",
   "metadata": {},
   "source": [
    "### How do you find the largest and smallest number in an unsorted integer array?"
   ]
  },
  {
   "cell_type": "code",
   "execution_count": 198,
   "metadata": {},
   "outputs": [
    {
     "name": "stdout",
     "output_type": "stream",
     "text": [
      "100 is the largest, 2 is the lowest.\n"
     ]
    }
   ],
   "source": [
    "high = test_array_dup[0]\n",
    "low = test_array_dup[0]\n",
    "for i in test_array_dup:\n",
    "    if i > low and i < high:\n",
    "        pass\n",
    "    elif  high < i:\n",
    "        high = i\n",
    "    elif low > i:\n",
    "        low = i\n",
    "\n",
    "print (high, \"is the largest,\", low, \"is the lowest.\")   \n"
   ]
  },
  {
   "cell_type": "code",
   "execution_count": 199,
   "metadata": {},
   "outputs": [
    {
     "data": {
      "text/plain": [
       "2"
      ]
     },
     "execution_count": 199,
     "metadata": {},
     "output_type": "execute_result"
    }
   ],
   "source": [
    "test_array_dup.min()"
   ]
  },
  {
   "cell_type": "code",
   "execution_count": 200,
   "metadata": {},
   "outputs": [
    {
     "data": {
      "text/plain": [
       "100"
      ]
     },
     "execution_count": 200,
     "metadata": {},
     "output_type": "execute_result"
    }
   ],
   "source": [
    "test_array_dup.max()"
   ]
  },
  {
   "cell_type": "markdown",
   "metadata": {},
   "source": [
    "### How do you find all pairs of an integer array whose sum is equal to a given number?"
   ]
  },
  {
   "cell_type": "code",
   "execution_count": 201,
   "metadata": {},
   "outputs": [],
   "source": [
    "random_number = random.randint(50, 200)"
   ]
  },
  {
   "cell_type": "code",
   "execution_count": 202,
   "metadata": {},
   "outputs": [
    {
     "data": {
      "text/plain": [
       "85"
      ]
     },
     "execution_count": 202,
     "metadata": {},
     "output_type": "execute_result"
    }
   ],
   "source": [
    "random_number"
   ]
  },
  {
   "cell_type": "code",
   "execution_count": 218,
   "metadata": {},
   "outputs": [],
   "source": [
    "counter = 0\n",
    "equality = []\n",
    "achieved_list = []\n",
    "for i in range(len(test_array_dup)):\n",
    "    if test_array_dup[i] > random_number:\n",
    "        pass\n",
    "    else:\n",
    "        for j in range(i+1, len(test_array_dup)):\n",
    "            if test_array_dup[j] > random_number:\n",
    "                pass\n",
    "            else:\n",
    "                if test_array_dup[i]+test_array_dup[j] == random_number:\n",
    "                    equality.append([test_array_dup[i],test_array_dup[j], i, j])\n"
   ]
  },
  {
   "cell_type": "code",
   "execution_count": 219,
   "metadata": {},
   "outputs": [
    {
     "data": {
      "text/plain": [
       "[[14, 71, 0, 31],\n",
       " [14, 71, 0, 45],\n",
       " [53, 32, 2, 65],\n",
       " [53, 32, 2, 81],\n",
       " [53, 32, 2, 87],\n",
       " [53, 32, 2, 90],\n",
       " [82, 3, 3, 22],\n",
       " [33, 52, 4, 99],\n",
       " [16, 69, 5, 26],\n",
       " [77, 8, 6, 18],\n",
       " [77, 8, 6, 55],\n",
       " [77, 8, 6, 84],\n",
       " [68, 17, 7, 88],\n",
       " [11, 74, 9, 82],\n",
       " [56, 29, 10, 16],\n",
       " [51, 34, 11, 33],\n",
       " [51, 34, 11, 56],\n",
       " [38, 47, 12, 78],\n",
       " [16, 69, 13, 26],\n",
       " [81, 4, 14, 20],\n",
       " [81, 4, 14, 71],\n",
       " [19, 66, 15, 28],\n",
       " [8, 77, 18, 41],\n",
       " [4, 81, 20, 77],\n",
       " [50, 35, 21, 29],\n",
       " [69, 16, 26, 58],\n",
       " [66, 19, 28, 30],\n",
       " [35, 50, 29, 73],\n",
       " [71, 14, 31, 68],\n",
       " [71, 14, 31, 94],\n",
       " [60, 25, 36, 80],\n",
       " [63, 22, 37, 38],\n",
       " [12, 73, 39, 67],\n",
       " [37, 48, 40, 52],\n",
       " [77, 8, 41, 55],\n",
       " [77, 8, 41, 84],\n",
       " [70, 15, 42, 96],\n",
       " [38, 47, 43, 78],\n",
       " [71, 14, 45, 68],\n",
       " [71, 14, 45, 94],\n",
       " [13, 72, 51, 69],\n",
       " [48, 37, 52, 61],\n",
       " [70, 15, 53, 96],\n",
       " [70, 15, 62, 96],\n",
       " [4, 81, 71, 77],\n",
       " [70, 15, 95, 96]]"
      ]
     },
     "execution_count": 219,
     "metadata": {},
     "output_type": "execute_result"
    }
   ],
   "source": [
    "equality"
   ]
  },
  {
   "cell_type": "markdown",
   "metadata": {},
   "source": [
    "### How is an integer array sorted in place using the quicksort algorithm? "
   ]
  },
  {
   "cell_type": "markdown",
   "metadata": {},
   "source": [
    "A random pivot is used. That pivot is a number occupying a slot in the array. Ideally its near the middle, but that is not too important. The algorithm will scan both sides of the array to ensure that the numbers on the left are less than the pivot number the ones on the right are greater. If they are not, they are swapped. This continues with a new pivot everytime."
   ]
  },
  {
   "cell_type": "code",
   "execution_count": 227,
   "metadata": {},
   "outputs": [],
   "source": [
    "qs_array = [6,5,3,1,8,7,2,4]\n"
   ]
  },
  {
   "cell_type": "code",
   "execution_count": 229,
   "metadata": {},
   "outputs": [],
   "source": [
    "pivot = random.choice(qs_array)"
   ]
  },
  {
   "cell_type": "code",
   "execution_count": 230,
   "metadata": {},
   "outputs": [
    {
     "data": {
      "text/plain": [
       "7"
      ]
     },
     "execution_count": 230,
     "metadata": {},
     "output_type": "execute_result"
    }
   ],
   "source": [
    "pivot"
   ]
  },
  {
   "cell_type": "code",
   "execution_count": null,
   "metadata": {},
   "outputs": [],
   "source": [
    "#comparision of the sides.\n",
    "left_array = qs_array\n",
    "for left"
   ]
  }
 ],
 "metadata": {
  "kernelspec": {
   "display_name": "Python 3",
   "language": "python",
   "name": "python3"
  },
  "language_info": {
   "codemirror_mode": {
    "name": "ipython",
    "version": 3
   },
   "file_extension": ".py",
   "mimetype": "text/x-python",
   "name": "python",
   "nbconvert_exporter": "python",
   "pygments_lexer": "ipython3",
   "version": "3.6.5"
  }
 },
 "nbformat": 4,
 "nbformat_minor": 2
}
