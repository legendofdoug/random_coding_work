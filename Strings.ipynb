{
 "cells": [
  {
   "cell_type": "markdown",
   "metadata": {},
   "source": [
    "### How do you print duplicate characters from a string?"
   ]
  },
  {
   "cell_type": "code",
   "execution_count": 56,
   "metadata": {},
   "outputs": [],
   "source": [
    "test = \"MotorMatcha\"\n",
    "def test_for_duplicate(test):\n",
    "    seen = set()\n",
    "    dup = set()\n",
    "    for i in test:\n",
    "        if i in seen:\n",
    "            dup.add(i)\n",
    "        seen.add(i)\n",
    "    return seen, dup"
   ]
  },
  {
   "cell_type": "code",
   "execution_count": 2,
   "metadata": {},
   "outputs": [
    {
     "data": {
      "text/plain": [
       "{'M', 'a', 'c', 'h', 'o', 'r', 't'}"
      ]
     },
     "execution_count": 2,
     "metadata": {},
     "output_type": "execute_result"
    }
   ],
   "source": [
    "seen"
   ]
  },
  {
   "cell_type": "code",
   "execution_count": 3,
   "metadata": {},
   "outputs": [
    {
     "data": {
      "text/plain": [
       "['o', 'M', 't', 'a']"
      ]
     },
     "execution_count": 3,
     "metadata": {},
     "output_type": "execute_result"
    }
   ],
   "source": [
    "dup"
   ]
  },
  {
   "cell_type": "markdown",
   "metadata": {},
   "source": [
    "### How do you check if two strings are anagrams of each other?\n"
   ]
  },
  {
   "cell_type": "code",
   "execution_count": 41,
   "metadata": {},
   "outputs": [],
   "source": [
    "test1 = \"meeg\"\n",
    "test2 = \"geem\""
   ]
  },
  {
   "cell_type": "code",
   "execution_count": 42,
   "metadata": {},
   "outputs": [],
   "source": [
    "test1 = list(test1) "
   ]
  },
  {
   "cell_type": "code",
   "execution_count": 43,
   "metadata": {},
   "outputs": [],
   "source": [
    "test2 = list(test2)"
   ]
  },
  {
   "cell_type": "code",
   "execution_count": 44,
   "metadata": {},
   "outputs": [
    {
     "name": "stdout",
     "output_type": "stream",
     "text": [
      "They are anagrams of each other\n"
     ]
    }
   ],
   "source": [
    "if test1.sort() == test2.sort():\n",
    "    print(\"They are anagrams of each other\")"
   ]
  },
  {
   "cell_type": "markdown",
   "metadata": {},
   "source": [
    "### How do you print the first non-repeated character from a string? "
   ]
  },
  {
   "cell_type": "code",
   "execution_count": 109,
   "metadata": {},
   "outputs": [],
   "source": [
    "test = \"yoopoopblap\""
   ]
  },
  {
   "cell_type": "code",
   "execution_count": 107,
   "metadata": {},
   "outputs": [],
   "source": [
    "def first_nonrepeat(test):\n",
    "    seen = set()\n",
    "    dup = []\n",
    "    unique = []\n",
    "    for i in test:\n",
    "        if i in seen:\n",
    "            dup.append(i)\n",
    "        else:\n",
    "            unique.append(i)\n",
    "            seen.add(i)\n",
    "    return unique[0]\n",
    "        \n",
    "            "
   ]
  },
  {
   "cell_type": "code",
   "execution_count": 108,
   "metadata": {},
   "outputs": [
    {
     "data": {
      "text/plain": [
       "'y'"
      ]
     },
     "execution_count": 108,
     "metadata": {},
     "output_type": "execute_result"
    }
   ],
   "source": [
    "first_nonrepeat(test)"
   ]
  },
  {
   "cell_type": "code",
   "execution_count": 103,
   "metadata": {},
   "outputs": [
    {
     "data": {
      "text/plain": [
       "['y', 'o', 'o', 'p']"
      ]
     },
     "execution_count": 103,
     "metadata": {},
     "output_type": "execute_result"
    }
   ],
   "source": []
  },
  {
   "cell_type": "markdown",
   "metadata": {},
   "source": [
    "### How can a given string be reversed using recursion? "
   ]
  },
  {
   "cell_type": "code",
   "execution_count": 144,
   "metadata": {},
   "outputs": [],
   "source": [
    "test = 'motormatcha'"
   ]
  },
  {
   "cell_type": "code",
   "execution_count": 148,
   "metadata": {},
   "outputs": [],
   "source": [
    "def reversal(test):\n",
    "    length = len(test)\n",
    "    print(length)\n",
    "    test = list(test)\n",
    "    for i in range(int(length/2)):\n",
    "        test[i], test[-i-1] = test[-i-1] , test[i]\n",
    "        print(\"iteration \", i, -i-1)\n",
    "        print (test)\n",
    "    string = \"\"\n",
    "    for i in test:\n",
    "        string+=i\n",
    "    \n",
    "    return string"
   ]
  },
  {
   "cell_type": "code",
   "execution_count": 149,
   "metadata": {},
   "outputs": [
    {
     "name": "stdout",
     "output_type": "stream",
     "text": [
      "11\n",
      "iteration  0 -1\n",
      "['a', 'o', 't', 'o', 'r', 'm', 'a', 't', 'c', 'h', 'm']\n",
      "iteration  1 -2\n",
      "['a', 'h', 't', 'o', 'r', 'm', 'a', 't', 'c', 'o', 'm']\n",
      "iteration  2 -3\n",
      "['a', 'h', 'c', 'o', 'r', 'm', 'a', 't', 't', 'o', 'm']\n",
      "iteration  3 -4\n",
      "['a', 'h', 'c', 't', 'r', 'm', 'a', 'o', 't', 'o', 'm']\n",
      "iteration  4 -5\n",
      "['a', 'h', 'c', 't', 'a', 'm', 'r', 'o', 't', 'o', 'm']\n"
     ]
    }
   ],
   "source": [
    "thing = reversal(test)"
   ]
  },
  {
   "cell_type": "code",
   "execution_count": 150,
   "metadata": {},
   "outputs": [
    {
     "data": {
      "text/plain": [
       "'ahctamrotom'"
      ]
     },
     "execution_count": 150,
     "metadata": {},
     "output_type": "execute_result"
    }
   ],
   "source": [
    "thing"
   ]
  },
  {
   "cell_type": "code",
   "execution_count": null,
   "metadata": {},
   "outputs": [],
   "source": []
  },
  {
   "cell_type": "markdown",
   "metadata": {},
   "source": [
    "### How do you check if a string contains only digits?"
   ]
  },
  {
   "cell_type": "code",
   "execution_count": 168,
   "metadata": {},
   "outputs": [],
   "source": [
    "digit = \"3489172\"\n",
    "digit2= \"3892g\"\n"
   ]
  },
  {
   "cell_type": "code",
   "execution_count": 173,
   "metadata": {},
   "outputs": [
    {
     "data": {
      "text/plain": [
       "'3892g'"
      ]
     },
     "execution_count": 173,
     "metadata": {},
     "output_type": "execute_result"
    }
   ],
   "source": [
    "digit2"
   ]
  },
  {
   "cell_type": "code",
   "execution_count": 174,
   "metadata": {},
   "outputs": [],
   "source": [
    "def digit_check(test):\n",
    "    try:\n",
    "        test = float(test)\n",
    "    except:\n",
    "        return (\"Looks like it isn't only digits\")\n",
    "    return (\"Look like digits only\")"
   ]
  },
  {
   "cell_type": "code",
   "execution_count": 176,
   "metadata": {},
   "outputs": [
    {
     "data": {
      "text/plain": [
       "'Look like digits only'"
      ]
     },
     "execution_count": 176,
     "metadata": {},
     "output_type": "execute_result"
    }
   ],
   "source": [
    "digit_check(digit)"
   ]
  },
  {
   "cell_type": "markdown",
   "metadata": {},
   "source": [
    "### How are duplicate characters found in a string?"
   ]
  },
  {
   "cell_type": "code",
   "execution_count": null,
   "metadata": {},
   "outputs": [],
   "source": []
  },
  {
   "cell_type": "markdown",
   "metadata": {},
   "source": [
    "### How do you count a number of vowels and consonants in a given string?"
   ]
  },
  {
   "cell_type": "code",
   "execution_count": 203,
   "metadata": {},
   "outputs": [],
   "source": [
    "def vowel_const_counter(string):\n",
    "    vowels = 0\n",
    "    const = 0\n",
    "    string.replace(\" \",\"\")\n",
    "    for i in string:\n",
    "        if i in \"aeiouAEIOUyY\":\n",
    "            vowels += 1\n",
    "        else:\n",
    "            const += 1\n",
    "    print (\"There are\", vowels, \"and\", const, 'constanants')\n",
    "    return \n",
    "        "
   ]
  },
  {
   "cell_type": "code",
   "execution_count": 204,
   "metadata": {},
   "outputs": [
    {
     "name": "stdout",
     "output_type": "stream",
     "text": [
      "There are 4 and 7 constanants\n"
     ]
    }
   ],
   "source": [
    "vowel_const_counter(test)"
   ]
  },
  {
   "cell_type": "code",
   "execution_count": 205,
   "metadata": {},
   "outputs": [],
   "source": [
    "poop = \"Fruitvale poop\""
   ]
  },
  {
   "cell_type": "code",
   "execution_count": 206,
   "metadata": {},
   "outputs": [
    {
     "name": "stdout",
     "output_type": "stream",
     "text": [
      "There are 6 and 8 constanants\n"
     ]
    }
   ],
   "source": [
    "vowel_const_counter(poop)"
   ]
  },
  {
   "cell_type": "code",
   "execution_count": 207,
   "metadata": {},
   "outputs": [
    {
     "data": {
      "text/plain": [
       "'Fruitvalepoop'"
      ]
     },
     "execution_count": 207,
     "metadata": {},
     "output_type": "execute_result"
    }
   ],
   "source": [
    "poop.replace(\" \",\"\")"
   ]
  },
  {
   "cell_type": "markdown",
   "metadata": {},
   "source": [
    "### How do you count the occurrence of a given character in a string? "
   ]
  },
  {
   "cell_type": "code",
   "execution_count": 208,
   "metadata": {},
   "outputs": [],
   "source": [
    "def char_counter(char, string):\n",
    "    counter = 0 \n",
    "    for i in string:\n",
    "        if i == char:\n",
    "            counter += 1\n",
    "    return counter"
   ]
  },
  {
   "cell_type": "code",
   "execution_count": 211,
   "metadata": {},
   "outputs": [
    {
     "data": {
      "text/plain": [
       "1"
      ]
     },
     "execution_count": 211,
     "metadata": {},
     "output_type": "execute_result"
    }
   ],
   "source": [
    "char_counter(\"a\", poop)"
   ]
  },
  {
   "cell_type": "markdown",
   "metadata": {},
   "source": [
    "### How do you find all permutations of a string?"
   ]
  },
  {
   "cell_type": "code",
   "execution_count": null,
   "metadata": {},
   "outputs": [],
   "source": [
    "def permutations(string):\n",
    "    combinations = []\n",
    "    word_bank = list(string)\n",
    "    length = len(string)\n",
    "    placeholder = []\n",
    "    for place in range(length):\n",
    "        placeholder = add_to_placeholder(placeholder, word_bank)\n",
    "        \n",
    "        combinations.append(placeholder)\n",
    "    \n",
    "def add_to_placeholder(placeholder, string):\n",
    "    for i in char_holder:\n",
    "        placeholder.append(i)\n",
    "    return placeholder"
   ]
  },
  {
   "cell_type": "code",
   "execution_count": 212,
   "metadata": {},
   "outputs": [],
   "source": [
    "blah = \"blah\""
   ]
  },
  {
   "cell_type": "code",
   "execution_count": 213,
   "metadata": {},
   "outputs": [
    {
     "data": {
      "text/plain": [
       "['b', 'l', 'a', 'h']"
      ]
     },
     "execution_count": 213,
     "metadata": {},
     "output_type": "execute_result"
    }
   ],
   "source": [
    "list(blah)"
   ]
  },
  {
   "cell_type": "markdown",
   "metadata": {},
   "source": [
    "### How do you find all permutations of a string?"
   ]
  },
  {
   "cell_type": "code",
   "execution_count": null,
   "metadata": {},
   "outputs": [],
   "source": []
  }
 ],
 "metadata": {
  "kernelspec": {
   "display_name": "Python 3",
   "language": "python",
   "name": "python3"
  },
  "language_info": {
   "codemirror_mode": {
    "name": "ipython",
    "version": 3
   },
   "file_extension": ".py",
   "mimetype": "text/x-python",
   "name": "python",
   "nbconvert_exporter": "python",
   "pygments_lexer": "ipython3",
   "version": "3.6.5"
  }
 },
 "nbformat": 4,
 "nbformat_minor": 2
}
