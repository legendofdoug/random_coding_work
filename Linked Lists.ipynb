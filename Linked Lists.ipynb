{
 "cells": [
  {
   "cell_type": "code",
   "execution_count": 5,
   "metadata": {},
   "outputs": [],
   "source": [
    "class node:\n",
    "    def __init__(self, data=None):\n",
    "        self.data=data\n",
    "        self.next=None"
   ]
  },
  {
   "cell_type": "code",
   "execution_count": 370,
   "metadata": {},
   "outputs": [],
   "source": [
    "class linked_list:\n",
    "    def __init__(self):\n",
    "        self.head = node()\n",
    "        \n",
    "    def append(self, data):\n",
    "        new_node = node(data)\n",
    "        cur = self.head\n",
    "        while cur.next != None:\n",
    "            cur = cur.next\n",
    "        cur.next = new_node\n",
    "    \n",
    "    def length(self):\n",
    "        cur = self.head\n",
    "        total = 0\n",
    "        while cur.next != None:\n",
    "            total += 1\n",
    "            cur = cur.next\n",
    "        return total\n",
    "    \n",
    "    def display(self):\n",
    "        elems = []\n",
    "        cur_node = self.head\n",
    "        while cur_node.next != None:\n",
    "            cur_node = cur_node.next\n",
    "            elems.append(cur_node.data)\n",
    "        print (elems)\n",
    "    \n",
    "    def get(self,index):\n",
    "        if index >= self.length() or index < 0:\n",
    "            print (\"ERROR: 'Get' Index out of range\")\n",
    "            return None\n",
    "        cur_idx = 0 \n",
    "        cur_node =self.head\n",
    "        while True:\n",
    "            cur_node = cur_node.next\n",
    "            if cur_idx == index:\n",
    "                return cur_node.data\n",
    "            cur_idx += 1\n",
    "    \n",
    "    def erase(self,index):\n",
    "        if index >= self.length() or index < 0:\n",
    "            print (\"ERROR: 'Get' Index out of range\")\n",
    "            return None\n",
    "        cur_idx = 0\n",
    "        cur_node = self.head\n",
    "        while True:\n",
    "            last_node = cur_node\n",
    "            cur_node = cur_node.next\n",
    "            if cur_idx == index:\n",
    "                last_node.next = cur_node.next\n",
    "                return\n",
    "            cur_idx += 1\n",
    "        \n",
    "    def insert(self, index, data):\n",
    "        if index >= self.length() or index < 0:\n",
    "            print (\"ERROR: 'Get' Index out of range\")\n",
    "            return None\n",
    "        cur_idx = 0\n",
    "        cur_node = self.head\n",
    "        while True:\n",
    "            last_node = cur_node\n",
    "            cur_node = cur_node.next\n",
    "            new_node = node(data)\n",
    "            if cur_idx == index:\n",
    "                last_node.next = new_node\n",
    "                new_node.next = cur_node\n",
    "                return\n",
    "            cur_idx += 1\n",
    "    \n",
    "    def middle(self):\n",
    "        length = self.length()\n",
    "        if length % 2 == 1:\n",
    "            index = length/2 -.5\n",
    "            cur_idx = 0\n",
    "            cur_node = self.head\n",
    "            \n",
    "            while True:\n",
    "                cur_node = cur_node.next\n",
    "                if cur_idx == index:\n",
    "                    return cur_node.data\n",
    "                cur_idx += 1\n",
    "        else:\n",
    "            index = length/2\n",
    "            cur_idx = 0\n",
    "            cur_node = self.head\n",
    "            while True:\n",
    "                last_node = cur_node\n",
    "                cur_node = cur_node.next\n",
    "                if cur_idx == index:\n",
    "                    return last_node.data, cur_node.data\n",
    "                cur_idx += 1\n",
    "\n",
    "    def make_circular(self, index): #make the linked list a circular one. \n",
    "        #the index represents where you'll attach the end.\n",
    "        cur_node = self.head\n",
    "        while cur_node.next != None:\n",
    "            cur_node = cur_node.next\n",
    "            print(\"going to next!\")\n",
    "        print('finished loop')\n",
    "        last_node = cur_node\n",
    "        cur_idx = 0\n",
    "        cur_node = self.head\n",
    "        while True:\n",
    "            cur_node = cur_node.next\n",
    "            if cur_idx == index:\n",
    "                last_node.next = cur_node\n",
    "                return\n",
    "            cur_idx+=1\n",
    "    \n",
    "    def detect_loop(self): #find out if there is a loop or not\n",
    "        ferrari =self.head #the fast pointer\n",
    "        fiat = self.head #the slow pointer\n",
    "        while ferrari.next != None and fiat.next != None:\n",
    "            ferrari = ferrari.next\n",
    "            if ferrari.next == None:\n",
    "                print (\"An end was found.\")\n",
    "                return\n",
    "            ferrari = ferrari.next#double iteration for the ferrari\n",
    "            fiat = fiat.next #single iteration\n",
    "            if ferrari == fiat:#if ferrari caught up with fiat in a loop, they will print this guy. \n",
    "                print (\"Duplicate Data has been found. A looped linked list is possible.\")\n",
    "                return\n",
    "            \n",
    "        return (\"Looks like not a circular linked list\")\n",
    "    \n",
    "    def cut_loop(self):#this will break the first time it sees a duplicate.\n",
    "        ferrari =self.head #the fast pointer\n",
    "        fiat = self.head #the slow pointer\n",
    "        while ferrari.next != None and fiat.next != None: #do this while the loop exists\n",
    "            ferrari = ferrari.next\n",
    "            if ferrari.next == None:\n",
    "                print (\"An end was found. This was not a circular loop.\")\n",
    "                return\n",
    "            ferrari = ferrari.next#double iteration for the ferrari\n",
    "            fiat = fiat.next #single iteration\n",
    "            if ferrari == fiat:#if ferrari caught up with fiat in a loop, they will print this guy. \n",
    "                print (\"Duplicate Data has been found. A looped linked list is possible.\")\n",
    "                ferrari.next = None\n",
    "                return\n",
    "    \n",
    "    def reverse(self): #this will reverse the linked list. \n",
    "        cur_node = self.head\n",
    "        cur_node = cur_node.next #ensure that we don't start at head. \n",
    "        last_node = cur_node \n",
    "        last_last_node = None #Ensure our tail\n",
    "        while cur_node.next != None:\n",
    "            cur_node = cur_node.next #move the current node pointer.\n",
    "            last_node.next = last_last_node #point the second pointer backwards\n",
    "            last_last_node = last_node #move up the third pointer\n",
    "            last_node = cur_node #move up second pointer\n",
    "        cur_node.next = last_last_node #last step to point backwards    \n",
    "        head_node = self.head\n",
    "        head_node.next = cur_node #make sure to reorient the head\n",
    "        return (\"List has been reversed.\")\n",
    "            \n",
    "    def removeDuplicates(self):\n",
    "        cur_node = self.head\n",
    "        seen = set()\n",
    "        cur_node = cur_node.next\n",
    "        index = 0\n",
    "        while cur_node != None:\n",
    "            #print (index, cur_node.data)\n",
    "            if cur_node.data in seen: #check to see if it's already been seen\n",
    "                self.erase(index) #erase the duplicate. Index is not incremented here because of the removal.\n",
    "            else:\n",
    "                seen.add(cur_node.data)\n",
    "                index+=1\n",
    "            cur_node = cur_node.next #move up.\n",
    "        return (\"Duplicates removed.\")\n",
    "    \n",
    "    def third_from_last(self):\n",
    "        ferrari = self.head\n",
    "        fiat = self.head\n",
    "        i = 0\n",
    "        for i in range(3):#move up 3 iterations\n",
    "            ferrari = ferrari.next\n",
    "        while ferrari != None:\n",
    "            fiat = fiat.next\n",
    "            ferrari = ferrari.next\n",
    "        return fiat.data\n",
    "    \n",
    "    def add_lists(self, other_list):\n",
    "        index = 0\n",
    "        combined = linked_list()\n",
    "        combined_node = combined.head\n",
    "        \n",
    "        cur_node = self.head\n",
    "        cur_node2 = other_list.head\n",
    "        cur_node = cur_node.next\n",
    "        cur_node2 = cur_node2.next\n",
    "        while cur_node != None or cur_node2 != None:\n",
    "            if cur_node != None and cur_node2 != None:\n",
    "                combined_node.next = node(cur_node.data + cur_node2.data)\n",
    "                cur_node = cur_node.next\n",
    "                cur_node2 = cur_node2.next\n",
    "            elif cur_node != None and cur_node2 == None:\n",
    "                combined_node.next = cur_node.next\n",
    "                return combined\n",
    "            elif cur_node == None and cur_node2 != None:\n",
    "                combined_node.next = cur_node2.next\n",
    "                return combined\n",
    "            combined_node = combined_node.next\n",
    "        \n",
    "        return combined\n",
    "            \n",
    "        \n"
   ]
  },
  {
   "cell_type": "code",
   "execution_count": 298,
   "metadata": {},
   "outputs": [],
   "source": [
    "first_LL = linked_list()"
   ]
  },
  {
   "cell_type": "code",
   "execution_count": 310,
   "metadata": {},
   "outputs": [],
   "source": [
    "first_LL.append(\"thermogenics\")\n",
    "first_LL.append(\"food\")\n",
    "first_LL.append(\"science\")\n",
    "first_LL.append(\"energy\")"
   ]
  },
  {
   "cell_type": "code",
   "execution_count": 314,
   "metadata": {},
   "outputs": [],
   "source": [
    "first_LL.append(\"pewp\")"
   ]
  },
  {
   "cell_type": "code",
   "execution_count": 315,
   "metadata": {},
   "outputs": [
    {
     "name": "stdout",
     "output_type": "stream",
     "text": [
      "['thermogenics', 'food', 'science', 'energy', 'pewp', 'thermogenics', 'food', 'science', 'energy', 'thermogenics', 'food', 'science', 'energy', 'pewp', 'thermogenics', 'food', 'science', 'energy', 'pewp', 'thermogenics', 'food', 'science', 'energy', 'thermogenics', 'food', 'science', 'energy', 'pewp', 'pewp', 'pewp']\n"
     ]
    }
   ],
   "source": [
    "first_LL.display()"
   ]
  },
  {
   "cell_type": "code",
   "execution_count": 316,
   "metadata": {},
   "outputs": [
    {
     "data": {
      "text/plain": [
       "'pewp'"
      ]
     },
     "execution_count": 316,
     "metadata": {},
     "output_type": "execute_result"
    }
   ],
   "source": [
    "first_LL.third_from_last()"
   ]
  },
  {
   "cell_type": "code",
   "execution_count": 303,
   "metadata": {},
   "outputs": [
    {
     "name": "stdout",
     "output_type": "stream",
     "text": [
      "['thermogenics', 'food', 'science', 'energy', 'pewp']\n"
     ]
    }
   ],
   "source": [
    "first_LL.display()"
   ]
  },
  {
   "cell_type": "code",
   "execution_count": 377,
   "metadata": {},
   "outputs": [],
   "source": [
    "import random"
   ]
  },
  {
   "cell_type": "code",
   "execution_count": 378,
   "metadata": {},
   "outputs": [],
   "source": [
    "first_LL = linked_list()\n",
    "for i in range(29):\n",
    "    first_LL.append(random.randint(0,100))"
   ]
  },
  {
   "cell_type": "code",
   "execution_count": 379,
   "metadata": {},
   "outputs": [
    {
     "name": "stdout",
     "output_type": "stream",
     "text": [
      "[43, 17, 38, 17, 22, 64, 33, 73, 4, 88, 32, 24, 26, 18, 24, 36, 11, 9, 73, 64]\n"
     ]
    }
   ],
   "source": [
    "first_LL.display()"
   ]
  },
  {
   "cell_type": "code",
   "execution_count": 380,
   "metadata": {},
   "outputs": [],
   "source": [
    "second_LL = linked_list()\n",
    "for i in range(20):\n",
    "    second_LL.append(random.randint(0,100))"
   ]
  },
  {
   "cell_type": "code",
   "execution_count": 381,
   "metadata": {},
   "outputs": [
    {
     "name": "stdout",
     "output_type": "stream",
     "text": [
      "[48, 91, 63, 47, 51, 47, 6, 56, 80, 10, 36, 15, 76, 92, 36, 69, 96, 63, 48, 44]\n"
     ]
    }
   ],
   "source": [
    "second_LL.display()"
   ]
  },
  {
   "cell_type": "code",
   "execution_count": 382,
   "metadata": {},
   "outputs": [],
   "source": [
    "end = first_LL.add_lists(second_LL)"
   ]
  },
  {
   "cell_type": "code",
   "execution_count": 383,
   "metadata": {},
   "outputs": [
    {
     "name": "stdout",
     "output_type": "stream",
     "text": [
      "[91, 108, 101, 64, 73, 111, 39, 129, 84, 98, 68, 39, 102, 110, 60, 105, 107, 72, 121, 108]\n"
     ]
    }
   ],
   "source": [
    "end.display()"
   ]
  },
  {
   "cell_type": "code",
   "execution_count": null,
   "metadata": {},
   "outputs": [],
   "source": []
  }
 ],
 "metadata": {
  "kernelspec": {
   "display_name": "Python 3",
   "language": "python",
   "name": "python3"
  },
  "language_info": {
   "codemirror_mode": {
    "name": "ipython",
    "version": 3
   },
   "file_extension": ".py",
   "mimetype": "text/x-python",
   "name": "python",
   "nbconvert_exporter": "python",
   "pygments_lexer": "ipython3",
   "version": "3.6.5"
  }
 },
 "nbformat": 4,
 "nbformat_minor": 2
}
