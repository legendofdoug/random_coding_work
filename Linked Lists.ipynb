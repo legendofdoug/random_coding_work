{
 "cells": [
  {
   "cell_type": "code",
   "execution_count": 3,
   "metadata": {},
   "outputs": [],
   "source": [
    "class node:\n",
    "    def __init__(self, data=None):\n",
    "        self.data=data\n",
    "        self.next=None"
   ]
  },
  {
   "cell_type": "code",
   "execution_count": 32,
   "metadata": {},
   "outputs": [],
   "source": [
    "class linked_list:\n",
    "    def __init__(self):\n",
    "        self.head = node()\n",
    "        \n",
    "    def append(self, data):\n",
    "        new_node = node(data)\n",
    "        cur = self.head\n",
    "        while cur.next != None:\n",
    "            cur = cur.next\n",
    "        cur.next = new_node\n",
    "    \n",
    "    def length(self):\n",
    "        cur = self.head\n",
    "        total = 0\n",
    "        while cur.next != None:\n",
    "            total += 1\n",
    "            cur = cur.next\n",
    "        return total\n",
    "    \n",
    "    def display(self):\n",
    "        elems = []\n",
    "        cur_node = self.head\n",
    "        while cur_node.next != None:\n",
    "            cur_node = cur_node.next\n",
    "            elems.append(cur_node.data)\n",
    "        print (elems)\n",
    "    \n",
    "    def get(self,index):\n",
    "        if index >= self.length() or index < 0:\n",
    "            print (\"ERROR: 'Get' Index out of range\")\n",
    "            return None\n",
    "        cur_idx = 0 \n",
    "        cur_node =self.head\n",
    "        while True:\n",
    "            cur_node = cur_node.next\n",
    "            if cur_idx == index:\n",
    "                return cur_node.data\n",
    "            cur_idx += 1\n",
    "    \n",
    "    def erase(self,index):\n",
    "        if index >= self.length() or index < 0:\n",
    "            print (\"ERROR: 'Get' Index out of range\")\n",
    "            return None\n",
    "        cur_idx = 0\n",
    "        cur_node = self.head\n",
    "        while True:\n",
    "            last_node = cur_node\n",
    "            cur_node = cur_node.next\n",
    "            if cur_idx == index:\n",
    "                last_node.next = cur_node.next\n",
    "                return\n",
    "            cur_idx += 1\n",
    "    "
   ]
  },
  {
   "cell_type": "code",
   "execution_count": 33,
   "metadata": {},
   "outputs": [],
   "source": [
    "first_LL = linked_list()"
   ]
  },
  {
   "cell_type": "code",
   "execution_count": 34,
   "metadata": {},
   "outputs": [
    {
     "name": "stdout",
     "output_type": "stream",
     "text": [
      "[]\n"
     ]
    }
   ],
   "source": [
    "first_LL.display()"
   ]
  },
  {
   "cell_type": "code",
   "execution_count": 35,
   "metadata": {},
   "outputs": [],
   "source": [
    "first_LL.append(\"holy shiet\")"
   ]
  },
  {
   "cell_type": "code",
   "execution_count": 36,
   "metadata": {},
   "outputs": [],
   "source": [
    "first_LL.append(\"I'm a turto\")"
   ]
  },
  {
   "cell_type": "code",
   "execution_count": 37,
   "metadata": {},
   "outputs": [],
   "source": [
    "first_LL.append(\"Wew\")"
   ]
  },
  {
   "cell_type": "code",
   "execution_count": 38,
   "metadata": {},
   "outputs": [
    {
     "name": "stdout",
     "output_type": "stream",
     "text": [
      "['holy shiet', \"I'm a turto\", 'Wew']\n"
     ]
    }
   ],
   "source": [
    "first_LL.display()"
   ]
  },
  {
   "cell_type": "code",
   "execution_count": 39,
   "metadata": {},
   "outputs": [
    {
     "data": {
      "text/plain": [
       "'Wew'"
      ]
     },
     "execution_count": 39,
     "metadata": {},
     "output_type": "execute_result"
    }
   ],
   "source": [
    "first_LL.get(2)"
   ]
  },
  {
   "cell_type": "code",
   "execution_count": 40,
   "metadata": {},
   "outputs": [
    {
     "name": "stdout",
     "output_type": "stream",
     "text": [
      "ERROR: 'Get' Index out of range\n"
     ]
    }
   ],
   "source": [
    "first_LL.get(-3)"
   ]
  },
  {
   "cell_type": "code",
   "execution_count": 41,
   "metadata": {},
   "outputs": [],
   "source": [
    "first_LL.erase(1)"
   ]
  },
  {
   "cell_type": "code",
   "execution_count": 43,
   "metadata": {},
   "outputs": [
    {
     "name": "stdout",
     "output_type": "stream",
     "text": [
      "['holy shiet', 'Wew']\n"
     ]
    }
   ],
   "source": [
    "first_LL.display()"
   ]
  },
  {
   "cell_type": "code",
   "execution_count": null,
   "metadata": {},
   "outputs": [],
   "source": []
  }
 ],
 "metadata": {
  "kernelspec": {
   "display_name": "Python 3",
   "language": "python",
   "name": "python3"
  },
  "language_info": {
   "codemirror_mode": {
    "name": "ipython",
    "version": 3
   },
   "file_extension": ".py",
   "mimetype": "text/x-python",
   "name": "python",
   "nbconvert_exporter": "python",
   "pygments_lexer": "ipython3",
   "version": "3.6.5"
  }
 },
 "nbformat": 4,
 "nbformat_minor": 2
}
