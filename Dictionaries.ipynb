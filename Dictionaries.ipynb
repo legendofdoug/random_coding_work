{
 "cells": [
  {
   "cell_type": "code",
   "execution_count": 3,
   "metadata": {},
   "outputs": [],
   "source": [
    "def value_swap(dict1, dict1_key, dict2, dict2_key):\n",
    "    dict1[dict1_key], dict2[dict2_key] = dict2[dict2_key], dict1[dict1_key]\n",
    "    return dict1, dict2\n",
    "    "
   ]
  },
  {
   "cell_type": "code",
   "execution_count": 4,
   "metadata": {},
   "outputs": [],
   "source": [
    "first_animal = {\n",
    "    \"animal\": \"cat\",\n",
    "    \"name\": \"matcha\",\n",
    "    \"color\": \"black\",\n",
    "    \"power\": \"sees ghosts\"\n",
    "    \n",
    "}\n",
    "second_animal = {\n",
    "    \"animal\": \"motorcycle\",\n",
    "    \"name\": \"motormatcha\",\n",
    "    \"color\": \"black\",\n",
    "    \"power\": \"goes\"\n",
    "}"
   ]
  },
  {
   "cell_type": "code",
   "execution_count": 5,
   "metadata": {},
   "outputs": [],
   "source": [
    "first_animal, second_animal = value_swap(first_animal, \"power\", second_animal, \"power\")"
   ]
  },
  {
   "cell_type": "code",
   "execution_count": 6,
   "metadata": {},
   "outputs": [
    {
     "data": {
      "text/plain": [
       "{'animal': 'cat', 'name': 'matcha', 'color': 'black', 'power': 'goes'}"
      ]
     },
     "execution_count": 6,
     "metadata": {},
     "output_type": "execute_result"
    }
   ],
   "source": [
    "first_animal"
   ]
  },
  {
   "cell_type": "code",
   "execution_count": null,
   "metadata": {},
   "outputs": [],
   "source": []
  }
 ],
 "metadata": {
  "kernelspec": {
   "display_name": "Python 3",
   "language": "python",
   "name": "python3"
  },
  "language_info": {
   "codemirror_mode": {
    "name": "ipython",
    "version": 3
   },
   "file_extension": ".py",
   "mimetype": "text/x-python",
   "name": "python",
   "nbconvert_exporter": "python",
   "pygments_lexer": "ipython3",
   "version": "3.6.5"
  }
 },
 "nbformat": 4,
 "nbformat_minor": 2
}
